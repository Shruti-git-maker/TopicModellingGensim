{
  "nbformat": 4,
  "nbformat_minor": 0,
  "metadata": {
    "colab": {
      "provenance": []
    },
    "kernelspec": {
      "name": "python3",
      "display_name": "Python 3"
    },
    "language_info": {
      "name": "python"
    }
  },
  "cells": [
    {
      "cell_type": "markdown",
      "source": [
        "# 30 Nov 2024\n",
        "\n",
        " how can i find the next word in a sentence.\n",
        " beginner projects\n",
        " 1.Sentence Auto-complete.\n",
        " with help of N-gram model.\n",
        " 2.Topic Identification\n",
        " 3.Conversational bots\n",
        "    -question tagging system\n",
        "    -educational projects"
      ],
      "metadata": {
        "id": "5EXLaHQUwq-f"
      }
    },
    {
      "cell_type": "markdown",
      "source": [
        "## nlp classification -supervised learnnig- 3rd column is there asd we train and test data on broken values and predicting results\n",
        "\n",
        "## post the basic layer of semantism\n",
        "\n",
        "## nlp regression - next word\n",
        "\n",
        "## clustering - unsupervised learning -we have to put the entire data to create a model ->\n",
        "DEEP LEARNING:\n",
        "1. extract key terms[independent]-Topic Modelling->\n",
        "2. summarization of entire use case with the help of Market Basket Analysis -associating a tag with it ->\n",
        "3. a generater of important named entity also recognition or Text Summerization of the data\n",
        "Here we don't know the result set for predicting.\n",
        "\n",
        "-Summarise the data"
      ],
      "metadata": {
        "id": "zuBwv8Qh5DlT"
      }
    },
    {
      "cell_type": "code",
      "source": [
        "# 1. Topic Identification or Topic Modelling\n",
        "## we have Gensim library particular to topic modelling\n",
        "## we can combine LDA model very well\n",
        "## Gensim san be used for very large data"
      ],
      "metadata": {
        "id": "HJyKBXnlw-Tp"
      },
      "execution_count": null,
      "outputs": []
    },
    {
      "cell_type": "code",
      "source": [
        "!pip install gensim"
      ],
      "metadata": {
        "colab": {
          "base_uri": "https://localhost:8080/"
        },
        "collapsed": true,
        "id": "NX7K369Ww-QW",
        "outputId": "88b0d907-174e-4537-a6f1-34d52482b515"
      },
      "execution_count": null,
      "outputs": [
        {
          "output_type": "stream",
          "name": "stdout",
          "text": [
            "Requirement already satisfied: gensim in /usr/local/lib/python3.10/dist-packages (4.3.3)\n",
            "Requirement already satisfied: numpy<2.0,>=1.18.5 in /usr/local/lib/python3.10/dist-packages (from gensim) (1.26.4)\n",
            "Requirement already satisfied: scipy<1.14.0,>=1.7.0 in /usr/local/lib/python3.10/dist-packages (from gensim) (1.13.1)\n",
            "Requirement already satisfied: smart-open>=1.8.1 in /usr/local/lib/python3.10/dist-packages (from gensim) (7.0.5)\n",
            "Requirement already satisfied: wrapt in /usr/local/lib/python3.10/dist-packages (from smart-open>=1.8.1->gensim) (1.17.0)\n"
          ]
        }
      ]
    },
    {
      "cell_type": "code",
      "source": [
        "article = \"\"\"Key Features\n",
        " Display6.1-inch OLED display with great HDR support\n",
        " Safety featuresEmergency SOS via satellite and Car Crash Detection\n",
        " Improved rear camera12MP wide camera takes better low-light snaps\n",
        "Recommended videosPowered by AnyClip\n",
        "Remember when Oppo launched this - the original Find X #retro #shorts #findx\n",
        "36.2K\n",
        "2\n",
        "Video Player is loading.Play VideoBrand logo\n",
        "\n",
        "\n",
        "thumbnail-kvyei5trjjguewrnkndeqwcpi5feiz2j3 reasons to pick the Samsung Galaxy Ring over the Oura Ring 4 #oura #galaxyring #shorts\n",
        "thumbnail-obxtgslpgvguewrnkndeqwcpi5wvcy2eNEW Amazon Kindle (2024) review - Why buy the Paperwhite?\n",
        "thumbnail-nz2wc2loobguezcjkbvti6dqjvifivzn3 reasons to pick Oura Ring 4 over Galaxy Ring #oura4 #galaxyring #shorts\n",
        "thumbnail-hewuun3nljguezcjkbvti6dqjuyhmttzNEW Macbook Pro (M4 Pro) 3 weeks later - Worth the upgrade!\n",
        "thumbnail-nn2dsvtmjjguezcjkbvti6dqjuzgyokeRemember when Oppo launched this - the original Find X #retro #shorts #findxNOW PLAYING\n",
        "thumbnail-jf2w65tkgvguezsxkjmxa23umfmum3tyDid you know - Kindle Paperwhite has a web browser! 😱\n",
        "thumbnail-lbcdasljobguenlek5kfsudrnz3wewk7How to schedule the warm light on your Kindle Paperwhite #kindlepaperwhite #shorts\n",
        "Introduction\n",
        "With the subsequent release of the iPhone 15 and iPhone 16, the iPhone 14 is no longer the latest smartphone in Apple’s collection – but it could still be a worthy purchase depending on the circumstances.\n",
        "\n",
        "Sure, the iPhone 14 doesn’t offer all the bells and whistles of newer models, like support for Apple Intelligence, boosted performance, and an upgraded 48MP rear camera, but its age is also a massive benefit. That’s mainly because the phone is now available for much less than its original £849 RRP, especially around big shopping seasons like Black Friday and Christmas.\n",
        "\n",
        "So, should you still go for the iPhone 14 in 2024? Here’s what we think of the 2022 flagship.\n",
        "\n",
        "Screen and Design\n",
        "Looks identical to the iPhone 13 (and iPhone 12)\n",
        "Nice display, but no ProMotion or Dynamic Island\n",
        "New array of colours, including a nice light blue\n",
        "For the third year running, Apple has stuck to the same overall design for its cheaper iPhone model. Aside from some slightly tweaked colours, including this rather tasteful blue I have been reviewing, there’s no obvious way to tell the 2021 and 2022 releases apart.\n",
        "\n",
        "While some tweaks would have been welcome, the iPhone 14 remains a good-looking phone. The flat sides have a matte finish so eschew fingerprints and smudges – very much the opposite of the iPhone 14 Pro – and I like how they match the colour of the glass back.\n",
        "\n",
        "It’s a light, comfortable device that’ll feel familiar to most. It’s also fairly durable, with an IP68 rating for water protection and Apple’s Ceramic Shield for adding some extra protection against drops. I still find these screens scratch too easily for my liking, so a screen protector is still a must for keeping the panel in the best condition. A few months after unboxing the phone there are some small scratches on the display.\n",
        "\n",
        "There’s no iPhone 14 Mini, instead, there’s a larger iPhone 14 Plus. The Plus has all the same tech as the regular iPhone 14, just in a larger body. If you like watching movies on the go or playing games, the bigger screen is better.\n",
        "\n",
        "The back of the iPhone 14\n",
        "Image Credit (Trusted Reviews)\n",
        "Like the design, the display is more of the same. ProMotion, the 120Hz adaptive refresh rate tech that enables the iPhone 14 Pro’s always-on display, is missing and if rumours are to be believed it won’t even feature on the iPhone 15 due to supply issues. That’s a real shame, as the smooth scrolling and extra skills this panel tech allows for are hugely missed, at least for me. You wouldn’t miss ProMotion or a high refresh rate if you’ve never used it, but it’s a feature that is hard to lose.\n",
        "\n",
        "It’s hard to give Apple a pass on not including a faster screen here, as even budget Android phones have them. The most comparable Samsung flagship, the Galaxy S23, also has a 120Hz display.\n",
        "\n",
        "It remains a good screen, though. Colours are faithful, there’s enough brightness for impactful HDR performance when streaming from Netflix, Apple TV Plus or others and the detail is sharp. The iPhone 14 Pro’s higher peak brightness makes it far more readable outdoors in really bright conditions and could be a deciding factor for someone who spends a lot of the day outside.\n",
        "\n",
        "The 6.1-inch OLED screen on the iPhone 14\n",
        "Image Credit (Trusted Reviews)\n",
        "Dynamic Island is another thing exclusive to the iPhone 14 Pro, leaving the iPhone 14 with the same dated notch as before. You can read all about the benefits of the Dynamic Island and how it turns the notch into a feature rather than an irritant in our iPhone 14 Pro review. It’s expected to feature on the iPhone 15, so could prove a major incentive to wait for the successor.\n",
        "\n",
        "Camera\n",
        "Two cameras on the back\n",
        "Improved selfie camera\n",
        "Telephoto zoom limited to the Pro\n",
        "The camera is the place where the most upgrades for the iPhone 14 are found. It packs the same 12MP rear sensor with an f/1.5 aperture as the iPhone 13 Pro, meaning it’s larger and faster than the iPhone 13.\n",
        "\n",
        "There are some notable upgrades that make the selfie camera much better at rendering accurate skin tones, and a slight tweaking of the image processing pipeline with the Photonic Engine.\n",
        "\n",
        "Two cameras on the back of the iPhone 14\n",
        "Image Credit (Trusted Reviews)\n",
        "The improvements over the iPhone 13 aren’t necessarily felt in daylight situations. Low-light shots have more detail, especially when Night Mode doesn’t kick in. Taking a picture of a dog’s fur, the iPhone 14 retained far more detail in the strands and this resulted in a far nicer image. This could either be a result of the Photonic Engine, the bigger sensor at play – or a combination of both.\n",
        "\n",
        "iphone14lowlightsample\n",
        "This was a scene lit by a single light, and the camera pulls out lots of detail and brightness\n",
        "iphone14lowlightsample\n",
        "There are no changes to the ultrawide camera, yet it again churns out better low-light shots than its predecessor. This is the most obvious place where the updated processing skills are seen and it actually makes this camera worthwhile using in situations that aren’t bright daylight.\n",
        "\n",
        "hone14lowlightsampleultrawide\n",
        "The ultrawide camera performance is a lot better in poor light\n",
        "In daylight situations, the iPhone 14 takes excellent snaps – just like the iPhone 13 did. Colours pop just the right amount, there’s lots of detail and excellent dynamic range. The bigger sensor also gives a shallower depth of field than the iPhone 13, allowing for a more natural blurry background when shooting up close.\n",
        "\n",
        "iphone14backgroundblur\n",
        "There’s a nice natural background blur thanks to the larger sensor\n",
        "iphone14daylightdetail\n",
        "The camera can pull out plenty of detail in daylight situations, though telling it apart from the iPhone 13 can be tricky\n",
        "If you want the best camera experience, the iPhone 14 Pro reigns – and the excellent Samsung Galaxy S23 Ultra beats that too. The upgraded 48MP main camera on the 14 Pro might oversharpen certain images, but for the most part, it offers up a superior experience with far more control thanks to the ProRes modes.\n",
        "\n",
        "The Pro phone also has a dedicated telephoto camera, something completely missing here, forcing the iPhone 14 to only use digital zoom. The Samsung Galaxy S23 is a similar price and has a proper zoom camera, making it far better here than the iPhone.\n",
        "\n",
        "Video remains a strong skill though, and an area the iPhone 14 is comfortably ahead of the Samsung and Google competition. New modes include a stabilised Action Mode that smooths out fast-moving subjects and the ability to shoot 4K in Cinematic Mode.\n",
        "\n",
        "Action Mode is a neat trick, even if the stabilisation isn’t on par with an action camera like the GoPro Hero 11. Still, if you’re shooting in a well-lit environment it’s worth using if capturing a fast subject.\n",
        "\n",
        "Performance\n",
        "Powered by the same chip as the iPhone 13 Pro\n",
        "No SIM slot in the US\n",
        "Fast, smooth performance\n",
        "There are two notable feature additions to the iPhone 14, although neither of them is an upgraded chipset. As has become a recurring theme of this review, the new A16 Bionic chipset is only available on the Pro models, although is tipped to arrive on the iPhone 15.\n",
        "\n",
        "Instead, it’s the safety additions that stand out. Those aren’t exactly features that make this iPhone 14 worth upgrading to from the iPhone 13 (or iPhone 12, for that matter), yet it’s good to see Apple looking at unique ways of expanding what we expect from a phone.\n",
        "\n",
        "First up there’s Car Crash Detection, a feature that uses the sensitive accelerometer inside the phone to alert emergency services (along with emergency contacts) after a collision. Testing every part of a phone is key to how we review at Trusted Reviews, but crashing a car purely to test a phone feature is taking things a little too far.\n",
        "\n",
        "Then there’s an emergency SOS feature made available by some clever new satellite tech. This lets you contact emergency services even when you’re out of network reach and currently live in the US, Canada and the UK.\n",
        "\n",
        "Gaming on the iPhone 14\n",
        "Image Credit (Trusted Reviews)\n",
        "Powering the iPhone 14 is the A15 Bionic chipset. More specifically, this is the version found in the iPhone 13 Pro, with a little more graphical grunt than the version from the iPhone 13.\n",
        "\n",
        "Let me say straight away that reusing an old chip is of no concern to me – the iPhone 13 Pro remains to this day one of the fastest phones. Throughout my week with the iPhone 14 it has never felt slow or laggy and I can’t really tell the difference between the performance here and on the A16 Bionic. I opened up a few Apple Arcade games, along with Genshin Impact and CoD Mobile, and they all played smoothly on the iPhone 14. Yes, the benchmark results are a little higher on the newer chip, but the difference is minimal in actual use.\n",
        "\n",
        "However, I would be concerned that having an older chip would shorten the lifespan of this model. Will it be supported as long as the iPhone 14 Pro? I would hope so, yet it’s a question that’s impossible to answer right now.\n",
        "\n",
        "In the US, Apple is shipping the entire iPhone 14 series without a SIM slot – instead, buyers will need to set up (or transfer over) an eSIM to the phone. My unit is the UK model and retains the slot which is smart, as eSIM is far less advanced here. I have been using the phone on Vodafone, a network that does support eSIM, yet Three doesn’t.\n",
        "\n",
        "The process for adding and transferring over an eSIM seems smart and easy, although your mileage may vary depending on networks. All models that have a physical SIM tray support multiple eSIMs too, so it’s there to try out.\n",
        "\n",
        "5G remains standard across the line and the Bluetooth standard has been upped to version 5.3, although there’s no Wi-Fi 6E or Wi-Fi 7 like you’ll find on the OnePlus 11. Call quality and general connectivity on the phone are great, as is the audio from the speakers.\n",
        "\n",
        "Video watching on the iPhone 14\n",
        "Image Credit (Trusted Reviews)\n",
        "Battery Life\n",
        "No charger included\n",
        "Endurance to get you through the day\n",
        "Wireless charging available\n",
        "The iPhone 14 has some modest battery improvements over the iPhone 13. But what’s more important is the improvements it has over the iPhone 12 and iPhone 11. I would assume most people who are keen on upgrading to this are coming from an iPhone (or Android phone) that’s a few years old, and if that’s you then the benefits are obvious.\n",
        "\n",
        "I was thoroughly impressed by the endurance of the iPhone 13, and the iPhone 14 ekes ever so slightly more juice out over the course of the day. For instance, Apple claims an extra hour of video playback and that’s exactly what I got. An hour of 100% brightness Netflix HDR streaming took off 9% on the iPhone 13, and 8% on the iPhone 14.\n",
        "\n",
        "It’s a similar story in gaming, with the battery saving a couple of per cent per hour when compared to the iPhone 13. I can comfortably get through a full, busy day with 20-30% left by bedtime, and on some quieter days there would be 35-40% left.\n",
        "\n",
        "The 6.1-inch OLED screen on the iPhone 14\n",
        "Image Credit (Trusted Reviews)\n",
        "Of course, there are no massive strides in battery tech here – but that’s an issue for the whole industry rather than just Apple itself. The aim is very much to get you through the day without worrying about finding a charger, something it manages more so than many Android phones.\n",
        "\n",
        "When it comes to charging, you’ll still need to provide your own plug (although a USB-C to Lightning cable is included in the box) or use either a MagSafe charger or another Qi-enabled pad. Wired charging is fastest as long as you’re using a 20w charger, with a full charge taking around 95 minutes. A 32-minute charge will get the phone from 0-50%. This falls well below some of the best Android phones, with the OnePlus 11 going from 0-100% in the amount of time the iPhone 14 can get to 50%.\n",
        "\n",
        "This could very well be the last year Apple uses Lightning as opposed to USB-C with certain EU laws coming into effect. This means the iPhone 15 is expected to feature a USB-C charging port instead, although we’re happy about this change, with Lightning becoming very slow for both charging and data transfer.\n",
        "article = \"\"\""
      ],
      "metadata": {
        "id": "EfFTuafPw-Nx"
      },
      "execution_count": null,
      "outputs": []
    },
    {
      "cell_type": "code",
      "source": [
        "#import library for NLP\n",
        "import nltk\n",
        "#import library for stemming\n",
        "from nltk.stem import PorterStemmer\n",
        "nltk.download('punkt')\n",
        "nltk.download('stopwords')\n",
        "nltk.download('punkt_tab')\n",
        "from nltk.corpus import stopwords\n",
        "from nltk.tokenize import word_tokenize\n",
        "from collections import Counter"
      ],
      "metadata": {
        "colab": {
          "base_uri": "https://localhost:8080/"
        },
        "collapsed": true,
        "id": "xpslltbMB2IN",
        "outputId": "bc9c588d-e4d2-4ec5-9191-4bd8c509ae5c"
      },
      "execution_count": null,
      "outputs": [
        {
          "output_type": "stream",
          "name": "stderr",
          "text": [
            "[nltk_data] Downloading package punkt to /root/nltk_data...\n",
            "[nltk_data]   Package punkt is already up-to-date!\n",
            "[nltk_data] Downloading package stopwords to /root/nltk_data...\n",
            "[nltk_data]   Package stopwords is already up-to-date!\n",
            "[nltk_data] Downloading package punkt_tab to /root/nltk_data...\n",
            "[nltk_data]   Package punkt_tab is already up-to-date!\n"
          ]
        }
      ]
    },
    {
      "cell_type": "code",
      "source": [
        "# Step 1: Tokenization\n",
        "\n",
        "tokens = word_tokenize(article)\n",
        "\n",
        "# Step 2: convert to lower case\n",
        "\n",
        "lower_tokens = [token.lower() for token in tokens if token.isalpha()]\n",
        "\n",
        "# Step 3: Remove stopwords\n",
        "\n",
        "stop_words = set(stopwords.words('english'))\n",
        "filtered_tokens = [word for word in lower_tokens if word not in stop_words]\n",
        "\n",
        "# Step 4: Count words(Bag of word Model)\n",
        "\n",
        "BoW = Counter(filtered_tokens)\n",
        "\n",
        "print(BoW.most_common(5))\n",
        "\n"
      ],
      "metadata": {
        "colab": {
          "base_uri": "https://localhost:8080/"
        },
        "id": "rUEfQvk2w-Le",
        "outputId": "e555e3c8-b461-4636-8db2-20399e89638a"
      },
      "execution_count": null,
      "outputs": [
        {
          "output_type": "stream",
          "name": "stdout",
          "text": [
            "[('iphone', 65), ('pro', 17), ('camera', 16), ('phone', 13), ('apple', 12)]\n"
          ]
        }
      ]
    },
    {
      "cell_type": "code",
      "source": [
        "filtered_tokens[0:10]"
      ],
      "metadata": {
        "colab": {
          "base_uri": "https://localhost:8080/"
        },
        "id": "jHiRCcFSIjff",
        "outputId": "a59d1484-9245-474d-d5ca-8b634d6b2220"
      },
      "execution_count": null,
      "outputs": [
        {
          "output_type": "execute_result",
          "data": {
            "text/plain": [
              "['key',\n",
              " 'features',\n",
              " 'oled',\n",
              " 'display',\n",
              " 'great',\n",
              " 'hdr',\n",
              " 'support',\n",
              " 'safety',\n",
              " 'featuresemergency',\n",
              " 'sos']"
            ]
          },
          "metadata": {},
          "execution_count": 44
        }
      ]
    },
    {
      "cell_type": "markdown",
      "source": [
        "## Latent Dirichlet Allocation(LDA)"
      ],
      "metadata": {
        "id": "xGpNlWZdD_Mz"
      }
    },
    {
      "cell_type": "code",
      "source": [
        "# Step 5: LDA\n",
        "\n",
        "from gensim import corpora\n",
        "from gensim.models import LdaModel\n",
        "from gensim.corpora import Dictionary\n",
        "#sentence tokenization\n",
        "from nltk.tokenize import sent_tokenize\n",
        "\n",
        "\n",
        "# Convert the article into documents\n",
        "documents = sent_tokenize(article)\n"
      ],
      "metadata": {
        "id": "KMZgsQrMw-IJ"
      },
      "execution_count": null,
      "outputs": []
    },
    {
      "cell_type": "code",
      "source": [
        "for i in documents:\n",
        "    print(i)"
      ],
      "metadata": {
        "colab": {
          "base_uri": "https://localhost:8080/"
        },
        "collapsed": true,
        "id": "dB264iXdw-Fo",
        "outputId": "3a3d9e2f-6b69-4a2a-dc92-38ab58bb86f4"
      },
      "execution_count": null,
      "outputs": [
        {
          "output_type": "stream",
          "name": "stdout",
          "text": [
            "Key Features\n",
            " Display6.1-inch OLED display with great HDR support\n",
            " Safety featuresEmergency SOS via satellite and Car Crash Detection\n",
            " Improved rear camera12MP wide camera takes better low-light snaps\n",
            "Recommended videosPowered by AnyClip\n",
            "Remember when Oppo launched this - the original Find X #retro #shorts #findx\n",
            "36.2K\n",
            "2\n",
            "Video Player is loading.Play VideoBrand logo\n",
            "\n",
            "\n",
            "thumbnail-kvyei5trjjguewrnkndeqwcpi5feiz2j3 reasons to pick the Samsung Galaxy Ring over the Oura Ring 4 #oura #galaxyring #shorts\n",
            "thumbnail-obxtgslpgvguewrnkndeqwcpi5wvcy2eNEW Amazon Kindle (2024) review - Why buy the Paperwhite?\n",
            "thumbnail-nz2wc2loobguezcjkbvti6dqjvifivzn3 reasons to pick Oura Ring 4 over Galaxy Ring #oura4 #galaxyring #shorts\n",
            "thumbnail-hewuun3nljguezcjkbvti6dqjuyhmttzNEW Macbook Pro (M4 Pro) 3 weeks later - Worth the upgrade!\n",
            "thumbnail-nn2dsvtmjjguezcjkbvti6dqjuzgyokeRemember when Oppo launched this - the original Find X #retro #shorts #findxNOW PLAYING\n",
            "thumbnail-jf2w65tkgvguezsxkjmxa23umfmum3tyDid you know - Kindle Paperwhite has a web browser!\n",
            "😱\n",
            "thumbnail-lbcdasljobguenlek5kfsudrnz3wewk7How to schedule the warm light on your Kindle Paperwhite #kindlepaperwhite #shorts\n",
            "Introduction\n",
            "With the subsequent release of the iPhone 15 and iPhone 16, the iPhone 14 is no longer the latest smartphone in Apple’s collection – but it could still be a worthy purchase depending on the circumstances.\n",
            "Sure, the iPhone 14 doesn’t offer all the bells and whistles of newer models, like support for Apple Intelligence, boosted performance, and an upgraded 48MP rear camera, but its age is also a massive benefit.\n",
            "That’s mainly because the phone is now available for much less than its original £849 RRP, especially around big shopping seasons like Black Friday and Christmas.\n",
            "So, should you still go for the iPhone 14 in 2024?\n",
            "Here’s what we think of the 2022 flagship.\n",
            "Screen and Design\n",
            "Looks identical to the iPhone 13 (and iPhone 12)\n",
            "Nice display, but no ProMotion or Dynamic Island\n",
            "New array of colours, including a nice light blue\n",
            "For the third year running, Apple has stuck to the same overall design for its cheaper iPhone model.\n",
            "Aside from some slightly tweaked colours, including this rather tasteful blue I have been reviewing, there’s no obvious way to tell the 2021 and 2022 releases apart.\n",
            "While some tweaks would have been welcome, the iPhone 14 remains a good-looking phone.\n",
            "The flat sides have a matte finish so eschew fingerprints and smudges – very much the opposite of the iPhone 14 Pro – and I like how they match the colour of the glass back.\n",
            "It’s a light, comfortable device that’ll feel familiar to most.\n",
            "It’s also fairly durable, with an IP68 rating for water protection and Apple’s Ceramic Shield for adding some extra protection against drops.\n",
            "I still find these screens scratch too easily for my liking, so a screen protector is still a must for keeping the panel in the best condition.\n",
            "A few months after unboxing the phone there are some small scratches on the display.\n",
            "There’s no iPhone 14 Mini, instead, there’s a larger iPhone 14 Plus.\n",
            "The Plus has all the same tech as the regular iPhone 14, just in a larger body.\n",
            "If you like watching movies on the go or playing games, the bigger screen is better.\n",
            "The back of the iPhone 14\n",
            "Image Credit (Trusted Reviews)\n",
            "Like the design, the display is more of the same.\n",
            "ProMotion, the 120Hz adaptive refresh rate tech that enables the iPhone 14 Pro’s always-on display, is missing and if rumours are to be believed it won’t even feature on the iPhone 15 due to supply issues.\n",
            "That’s a real shame, as the smooth scrolling and extra skills this panel tech allows for are hugely missed, at least for me.\n",
            "You wouldn’t miss ProMotion or a high refresh rate if you’ve never used it, but it’s a feature that is hard to lose.\n",
            "It’s hard to give Apple a pass on not including a faster screen here, as even budget Android phones have them.\n",
            "The most comparable Samsung flagship, the Galaxy S23, also has a 120Hz display.\n",
            "It remains a good screen, though.\n",
            "Colours are faithful, there’s enough brightness for impactful HDR performance when streaming from Netflix, Apple TV Plus or others and the detail is sharp.\n",
            "The iPhone 14 Pro’s higher peak brightness makes it far more readable outdoors in really bright conditions and could be a deciding factor for someone who spends a lot of the day outside.\n",
            "The 6.1-inch OLED screen on the iPhone 14\n",
            "Image Credit (Trusted Reviews)\n",
            "Dynamic Island is another thing exclusive to the iPhone 14 Pro, leaving the iPhone 14 with the same dated notch as before.\n",
            "You can read all about the benefits of the Dynamic Island and how it turns the notch into a feature rather than an irritant in our iPhone 14 Pro review.\n",
            "It’s expected to feature on the iPhone 15, so could prove a major incentive to wait for the successor.\n",
            "Camera\n",
            "Two cameras on the back\n",
            "Improved selfie camera\n",
            "Telephoto zoom limited to the Pro\n",
            "The camera is the place where the most upgrades for the iPhone 14 are found.\n",
            "It packs the same 12MP rear sensor with an f/1.5 aperture as the iPhone 13 Pro, meaning it’s larger and faster than the iPhone 13.\n",
            "There are some notable upgrades that make the selfie camera much better at rendering accurate skin tones, and a slight tweaking of the image processing pipeline with the Photonic Engine.\n",
            "Two cameras on the back of the iPhone 14\n",
            "Image Credit (Trusted Reviews)\n",
            "The improvements over the iPhone 13 aren’t necessarily felt in daylight situations.\n",
            "Low-light shots have more detail, especially when Night Mode doesn’t kick in.\n",
            "Taking a picture of a dog’s fur, the iPhone 14 retained far more detail in the strands and this resulted in a far nicer image.\n",
            "This could either be a result of the Photonic Engine, the bigger sensor at play – or a combination of both.\n",
            "iphone14lowlightsample\n",
            "This was a scene lit by a single light, and the camera pulls out lots of detail and brightness\n",
            "iphone14lowlightsample\n",
            "There are no changes to the ultrawide camera, yet it again churns out better low-light shots than its predecessor.\n",
            "This is the most obvious place where the updated processing skills are seen and it actually makes this camera worthwhile using in situations that aren’t bright daylight.\n",
            "hone14lowlightsampleultrawide\n",
            "The ultrawide camera performance is a lot better in poor light\n",
            "In daylight situations, the iPhone 14 takes excellent snaps – just like the iPhone 13 did.\n",
            "Colours pop just the right amount, there’s lots of detail and excellent dynamic range.\n",
            "The bigger sensor also gives a shallower depth of field than the iPhone 13, allowing for a more natural blurry background when shooting up close.\n",
            "iphone14backgroundblur\n",
            "There’s a nice natural background blur thanks to the larger sensor\n",
            "iphone14daylightdetail\n",
            "The camera can pull out plenty of detail in daylight situations, though telling it apart from the iPhone 13 can be tricky\n",
            "If you want the best camera experience, the iPhone 14 Pro reigns – and the excellent Samsung Galaxy S23 Ultra beats that too.\n",
            "The upgraded 48MP main camera on the 14 Pro might oversharpen certain images, but for the most part, it offers up a superior experience with far more control thanks to the ProRes modes.\n",
            "The Pro phone also has a dedicated telephoto camera, something completely missing here, forcing the iPhone 14 to only use digital zoom.\n",
            "The Samsung Galaxy S23 is a similar price and has a proper zoom camera, making it far better here than the iPhone.\n",
            "Video remains a strong skill though, and an area the iPhone 14 is comfortably ahead of the Samsung and Google competition.\n",
            "New modes include a stabilised Action Mode that smooths out fast-moving subjects and the ability to shoot 4K in Cinematic Mode.\n",
            "Action Mode is a neat trick, even if the stabilisation isn’t on par with an action camera like the GoPro Hero 11.\n",
            "Still, if you’re shooting in a well-lit environment it’s worth using if capturing a fast subject.\n",
            "Performance\n",
            "Powered by the same chip as the iPhone 13 Pro\n",
            "No SIM slot in the US\n",
            "Fast, smooth performance\n",
            "There are two notable feature additions to the iPhone 14, although neither of them is an upgraded chipset.\n",
            "As has become a recurring theme of this review, the new A16 Bionic chipset is only available on the Pro models, although is tipped to arrive on the iPhone 15.\n",
            "Instead, it’s the safety additions that stand out.\n",
            "Those aren’t exactly features that make this iPhone 14 worth upgrading to from the iPhone 13 (or iPhone 12, for that matter), yet it’s good to see Apple looking at unique ways of expanding what we expect from a phone.\n",
            "First up there’s Car Crash Detection, a feature that uses the sensitive accelerometer inside the phone to alert emergency services (along with emergency contacts) after a collision.\n",
            "Testing every part of a phone is key to how we review at Trusted Reviews, but crashing a car purely to test a phone feature is taking things a little too far.\n",
            "Then there’s an emergency SOS feature made available by some clever new satellite tech.\n",
            "This lets you contact emergency services even when you’re out of network reach and currently live in the US, Canada and the UK.\n",
            "Gaming on the iPhone 14\n",
            "Image Credit (Trusted Reviews)\n",
            "Powering the iPhone 14 is the A15 Bionic chipset.\n",
            "More specifically, this is the version found in the iPhone 13 Pro, with a little more graphical grunt than the version from the iPhone 13.\n",
            "Let me say straight away that reusing an old chip is of no concern to me – the iPhone 13 Pro remains to this day one of the fastest phones.\n",
            "Throughout my week with the iPhone 14 it has never felt slow or laggy and I can’t really tell the difference between the performance here and on the A16 Bionic.\n",
            "I opened up a few Apple Arcade games, along with Genshin Impact and CoD Mobile, and they all played smoothly on the iPhone 14.\n",
            "Yes, the benchmark results are a little higher on the newer chip, but the difference is minimal in actual use.\n",
            "However, I would be concerned that having an older chip would shorten the lifespan of this model.\n",
            "Will it be supported as long as the iPhone 14 Pro?\n",
            "I would hope so, yet it’s a question that’s impossible to answer right now.\n",
            "In the US, Apple is shipping the entire iPhone 14 series without a SIM slot – instead, buyers will need to set up (or transfer over) an eSIM to the phone.\n",
            "My unit is the UK model and retains the slot which is smart, as eSIM is far less advanced here.\n",
            "I have been using the phone on Vodafone, a network that does support eSIM, yet Three doesn’t.\n",
            "The process for adding and transferring over an eSIM seems smart and easy, although your mileage may vary depending on networks.\n",
            "All models that have a physical SIM tray support multiple eSIMs too, so it’s there to try out.\n",
            "5G remains standard across the line and the Bluetooth standard has been upped to version 5.3, although there’s no Wi-Fi 6E or Wi-Fi 7 like you’ll find on the OnePlus 11.\n",
            "Call quality and general connectivity on the phone are great, as is the audio from the speakers.\n",
            "Video watching on the iPhone 14\n",
            "Image Credit (Trusted Reviews)\n",
            "Battery Life\n",
            "No charger included\n",
            "Endurance to get you through the day\n",
            "Wireless charging available\n",
            "The iPhone 14 has some modest battery improvements over the iPhone 13.\n",
            "But what’s more important is the improvements it has over the iPhone 12 and iPhone 11.\n",
            "I would assume most people who are keen on upgrading to this are coming from an iPhone (or Android phone) that’s a few years old, and if that’s you then the benefits are obvious.\n",
            "I was thoroughly impressed by the endurance of the iPhone 13, and the iPhone 14 ekes ever so slightly more juice out over the course of the day.\n",
            "For instance, Apple claims an extra hour of video playback and that’s exactly what I got.\n",
            "An hour of 100% brightness Netflix HDR streaming took off 9% on the iPhone 13, and 8% on the iPhone 14.\n",
            "It’s a similar story in gaming, with the battery saving a couple of per cent per hour when compared to the iPhone 13.\n",
            "I can comfortably get through a full, busy day with 20-30% left by bedtime, and on some quieter days there would be 35-40% left.\n",
            "The 6.1-inch OLED screen on the iPhone 14\n",
            "Image Credit (Trusted Reviews)\n",
            "Of course, there are no massive strides in battery tech here – but that’s an issue for the whole industry rather than just Apple itself.\n",
            "The aim is very much to get you through the day without worrying about finding a charger, something it manages more so than many Android phones.\n",
            "When it comes to charging, you’ll still need to provide your own plug (although a USB-C to Lightning cable is included in the box) or use either a MagSafe charger or another Qi-enabled pad.\n",
            "Wired charging is fastest as long as you’re using a 20w charger, with a full charge taking around 95 minutes.\n",
            "A 32-minute charge will get the phone from 0-50%.\n",
            "This falls well below some of the best Android phones, with the OnePlus 11 going from 0-100% in the amount of time the iPhone 14 can get to 50%.\n",
            "This could very well be the last year Apple uses Lightning as opposed to USB-C with certain EU laws coming into effect.\n",
            "This means the iPhone 15 is expected to feature a USB-C charging port instead, although we’re happy about this change, with Lightning becoming very slow for both charging and data transfer.\n",
            "article =\n"
          ]
        }
      ]
    },
    {
      "cell_type": "code",
      "source": [
        "# tokenize\n",
        "tokenized_words = [word_tokenize(doc.lower()) for doc in documents] # Added parentheses to doc.lower()\n",
        "\n",
        "# remove stopwords\n",
        "filtered_words = [[word for word in words if word.isalpha()] for words in tokenized_words]\n",
        "\n",
        "# create dictionary\n",
        "dictionary = Dictionary(filtered_words)\n",
        "\n",
        "# create corpus\n",
        "corpus = [dictionary.doc2bow(words) for words in filtered_words]\n",
        "#corpus"
      ],
      "metadata": {
        "collapsed": true,
        "id": "vvsz0Cjzw-DS"
      },
      "execution_count": null,
      "outputs": []
    },
    {
      "cell_type": "code",
      "source": [
        "#filtered_words[0:10]"
      ],
      "metadata": {
        "collapsed": true,
        "id": "zI3DyLcgIOYp"
      },
      "execution_count": null,
      "outputs": []
    },
    {
      "cell_type": "code",
      "source": [
        "#corpus[5]\n"
      ],
      "metadata": {
        "collapsed": true,
        "id": "KwQnUR6hI_3p"
      },
      "execution_count": null,
      "outputs": []
    },
    {
      "cell_type": "code",
      "source": [
        "#filtered_words[5]"
      ],
      "metadata": {
        "collapsed": true,
        "id": "yx8ORraMJaRJ"
      },
      "execution_count": null,
      "outputs": []
    },
    {
      "cell_type": "code",
      "source": [
        "for i in range(len(corpus)):\n",
        "    print(f\"Document{i+1}: {corpus[i]}\")"
      ],
      "metadata": {
        "colab": {
          "base_uri": "https://localhost:8080/"
        },
        "collapsed": true,
        "id": "k3Rv0OfHw-Ak",
        "outputId": "b94a8b1d-cfcb-4200-8fb3-a23cd7348bd5"
      },
      "execution_count": null,
      "outputs": [
        {
          "output_type": "stream",
          "name": "stdout",
          "text": [
            "Document1: [(0, 1), (1, 1), (2, 1), (3, 1), (4, 1), (5, 1), (6, 1), (7, 1), (8, 1), (9, 1), (10, 1), (11, 1), (12, 1), (13, 1), (14, 1), (15, 1), (16, 1), (17, 1), (18, 1), (19, 1), (20, 1), (21, 1), (22, 1), (23, 1), (24, 1), (25, 1), (26, 1), (27, 1), (28, 2), (29, 1), (30, 1), (31, 1), (32, 1), (33, 1), (34, 1), (35, 1), (36, 1), (37, 1), (38, 1), (39, 2), (40, 1), (41, 1), (42, 1), (43, 2), (44, 1), (45, 1), (46, 1), (47, 1), (48, 4), (49, 1), (50, 1), (51, 1), (52, 1), (53, 1), (54, 1), (55, 1), (56, 1), (57, 1), (58, 1), (59, 1)]\n",
            "Document2: [(15, 1), (16, 1), (28, 1), (29, 1), (31, 1), (34, 1), (39, 2), (43, 1), (48, 1), (50, 1), (60, 1), (61, 1), (62, 2), (63, 1), (64, 1), (65, 1)]\n",
            "Document3: [(13, 1), (22, 1), (23, 1), (26, 1), (27, 1), (30, 1), (37, 1), (43, 1), (48, 1), (49, 1), (55, 1), (59, 1), (66, 1), (67, 1), (68, 1), (69, 1), (70, 1), (71, 1), (72, 1), (73, 1)]\n",
            "Document4: [(1, 1), (20, 1), (22, 1), (30, 1), (43, 1), (48, 6), (50, 1), (58, 1), (66, 1), (74, 1), (75, 1), (76, 1), (77, 1), (78, 1), (79, 1), (80, 1), (81, 1), (82, 1), (83, 3), (84, 1), (85, 1), (86, 1), (87, 1), (88, 1), (89, 1), (90, 1), (91, 2), (92, 1), (93, 1), (94, 1), (95, 1), (96, 1), (97, 1), (98, 1), (99, 1), (100, 1), (101, 1)]\n",
            "Document5: [(1, 2), (6, 1), (20, 1), (33, 1), (46, 1), (48, 2), (66, 1), (74, 1), (76, 1), (83, 1), (90, 1), (102, 1), (103, 1), (104, 1), (105, 1), (106, 1), (107, 1), (108, 1), (109, 1), (110, 1), (111, 1), (112, 1), (113, 1), (114, 1), (115, 1), (116, 1), (117, 1), (118, 1), (119, 1), (120, 1), (121, 1), (122, 1)]\n",
            "Document6: [(1, 1), (20, 1), (27, 1), (48, 1), (94, 1), (110, 1), (112, 1), (113, 1), (123, 1), (124, 1), (125, 1), (126, 1), (127, 1), (128, 1), (129, 1), (130, 1), (131, 1), (132, 1), (133, 1), (134, 1), (135, 1), (136, 1), (137, 1), (138, 1), (139, 1), (140, 1)]\n",
            "Document7: [(48, 1), (73, 1), (81, 1), (83, 1), (97, 1), (110, 1), (141, 1), (142, 1), (143, 1)]\n",
            "Document8: [(48, 1), (90, 1), (94, 1), (144, 1), (145, 1), (146, 1), (147, 1), (148, 1)]\n",
            "Document9: [(1, 2), (10, 1), (48, 3), (50, 2), (66, 1), (69, 1), (74, 1), (76, 1), (83, 3), (87, 1), (89, 1), (90, 1), (110, 2), (112, 1), (149, 1), (150, 1), (151, 1), (152, 1), (153, 2), (154, 1), (155, 1), (156, 1), (157, 1), (158, 1), (159, 1), (160, 1), (161, 2), (162, 1), (163, 1), (164, 1), (165, 1), (166, 1), (167, 1), (168, 1), (169, 1), (170, 1)]\n",
            "Document10: [(1, 1), (48, 1), (49, 1), (50, 1), (89, 1), (94, 1), (150, 1), (152, 1), (156, 1), (171, 1), (172, 1), (173, 1), (174, 1), (175, 1), (176, 1), (177, 1), (178, 1), (179, 1), (180, 1), (181, 1), (182, 1), (183, 1), (184, 1), (185, 1), (186, 1), (187, 1)]\n",
            "Document11: [(48, 1), (66, 1), (83, 1), (135, 1), (173, 1), (175, 1), (182, 1), (188, 1), (189, 1), (190, 1), (191, 1), (192, 1)]\n",
            "Document12: [(1, 2), (48, 5), (62, 1), (66, 1), (83, 1), (90, 2), (113, 1), (133, 1), (143, 1), (175, 1), (176, 1), (193, 1), (194, 1), (195, 1), (196, 1), (197, 1), (198, 1), (199, 1), (200, 1), (201, 1), (202, 1), (203, 1), (204, 1), (205, 1), (206, 1), (207, 1)]\n",
            "Document13: [(50, 1), (66, 1), (84, 1), (87, 1), (94, 1), (140, 1), (208, 1), (209, 1), (210, 1), (211, 1), (212, 1), (213, 1)]\n",
            "Document14: [(1, 1), (58, 1), (74, 1), (84, 1), (94, 2), (104, 1), (105, 1), (110, 2), (182, 1), (214, 1), (215, 1), (216, 1), (217, 1), (218, 1), (219, 1), (220, 1), (221, 2), (222, 1), (223, 1), (224, 1)]\n",
            "Document15: [(13, 1), (20, 1), (48, 2), (66, 2), (81, 1), (97, 2), (110, 2), (143, 1), (167, 1), (176, 1), (225, 1), (226, 1), (227, 1), (228, 1), (229, 1), (230, 1), (231, 1), (232, 1), (233, 1), (234, 1), (235, 1), (236, 1), (237, 1)]\n",
            "Document16: [(10, 1), (48, 2), (66, 1), (91, 1), (135, 1), (182, 1), (185, 1), (238, 1), (239, 1), (240, 1), (241, 1), (242, 1), (243, 1), (244, 1)]\n",
            "Document17: [(66, 1), (83, 2), (89, 1), (94, 2), (185, 2), (245, 1), (246, 1), (247, 1), (248, 1)]\n",
            "Document18: [(48, 3), (66, 1), (69, 1), (81, 1), (83, 1), (103, 1), (166, 1), (246, 1), (248, 1), (249, 1), (250, 1), (251, 1), (252, 1), (253, 1)]\n",
            "Document19: [(3, 1), (20, 1), (48, 2), (71, 1), (73, 1), (91, 1), (113, 1), (141, 1), (162, 1), (167, 1), (254, 1), (255, 1), (256, 1), (257, 1), (258, 1)]\n",
            "Document20: [(10, 1), (20, 1), (48, 5), (83, 1), (90, 2), (113, 1), (153, 1), (166, 1), (193, 1), (259, 1), (260, 1), (261, 1), (262, 1), (263, 1)]\n",
            "Document21: [(1, 1), (10, 1), (20, 1), (48, 3), (50, 2), (62, 1), (75, 1), (83, 2), (84, 1), (91, 1), (94, 1), (120, 1), (140, 1), (164, 1), (239, 1), (253, 1), (256, 1), (264, 1), (265, 1), (266, 1), (267, 1), (268, 1), (269, 1), (270, 1), (271, 1), (272, 1), (273, 1), (274, 1), (275, 1), (276, 1)]\n",
            "Document22: [(1, 1), (48, 1), (49, 1), (66, 1), (94, 1), (110, 2), (140, 1), (219, 1), (232, 1), (239, 1), (249, 1), (253, 1), (277, 1), (278, 1), (279, 1), (280, 1), (281, 1), (282, 1), (283, 1), (284, 1), (285, 1), (286, 1), (287, 1)]\n",
            "Document23: [(20, 1), (50, 1), (66, 2), (73, 2), (76, 1), (84, 2), (94, 1), (120, 1), (140, 1), (162, 1), (164, 1), (256, 1), (269, 1), (272, 1), (273, 1), (288, 1), (289, 1), (290, 1), (291, 1), (292, 1), (293, 1), (294, 1), (295, 1)]\n",
            "Document24: [(50, 1), (66, 2), (74, 1), (84, 1), (91, 1), (94, 1), (145, 1), (156, 1), (167, 1), (175, 1), (249, 1), (268, 1), (288, 1), (296, 1), (297, 1), (298, 1), (299, 1), (300, 1), (301, 1), (302, 1), (303, 1)]\n",
            "Document25: [(10, 1), (15, 1), (41, 1), (48, 2), (66, 1), (69, 1), (104, 1), (144, 1), (213, 1), (304, 1)]\n",
            "Document26: [(66, 1), (84, 1), (167, 1), (188, 1), (305, 1), (306, 1)]\n",
            "Document27: [(1, 1), (18, 1), (20, 1), (48, 1), (55, 1), (74, 1), (94, 1), (110, 1), (118, 1), (152, 1), (162, 1), (174, 1), (185, 1), (239, 1), (248, 1), (307, 1), (308, 1), (309, 1), (310, 1), (311, 1), (312, 1), (313, 1), (314, 1), (315, 1), (316, 1)]\n",
            "Document28: [(1, 1), (48, 2), (62, 1), (66, 2), (75, 1), (79, 1), (81, 1), (83, 1), (84, 1), (90, 1), (94, 1), (110, 1), (261, 1), (307, 1), (317, 1), (318, 1), (319, 1), (320, 1), (321, 1), (322, 1), (323, 1), (324, 1), (325, 1), (326, 1), (327, 1), (328, 1), (329, 1), (330, 1), (331, 1), (332, 1), (333, 1)]\n",
            "Document29: [(20, 1), (25, 1), (48, 5), (50, 1), (58, 1), (62, 1), (83, 3), (91, 1), (154, 1), (157, 1), (166, 1), (167, 1), (249, 1), (259, 1), (260, 1), (262, 1), (263, 1), (334, 1), (335, 1), (336, 1), (337, 1), (338, 1), (339, 1), (340, 1)]\n",
            "Document30: [(1, 1), (38, 1), (48, 3), (62, 1), (66, 1), (73, 1), (81, 1), (83, 1), (84, 1), (90, 1), (103, 1), (105, 1), (139, 1), (154, 1), (157, 1), (178, 1), (200, 1), (269, 1), (339, 1), (341, 1), (342, 1), (343, 1), (344, 1), (345, 1), (346, 1), (347, 1), (348, 1)]\n",
            "Document31: [(48, 2), (50, 2), (66, 1), (79, 1), (83, 1), (84, 1), (91, 1), (94, 1), (110, 1), (143, 1), (269, 1), (349, 1), (350, 1), (351, 1), (352, 1), (353, 1), (354, 1)]\n",
            "Document32: [(6, 3), (19, 1), (20, 1), (48, 6), (50, 1), (62, 1), (83, 1), (91, 1), (110, 1), (193, 1), (213, 1), (239, 1), (355, 1), (356, 1), (357, 1), (358, 1), (359, 1), (360, 1), (361, 1), (362, 1), (363, 1), (364, 1)]\n",
            "Document33: [(1, 1), (33, 1), (48, 3), (58, 1), (62, 1), (83, 2), (84, 2), (94, 1), (105, 1), (139, 1), (166, 1), (246, 1), (249, 1), (298, 1), (365, 1), (366, 1), (367, 1), (368, 1)]\n",
            "Document34: [(1, 1), (3, 1), (6, 1), (48, 3), (58, 1), (66, 1), (90, 1), (133, 1), (140, 1), (182, 1), (185, 1), (239, 1), (260, 1), (278, 1), (359, 1), (362, 1), (369, 1), (370, 1), (371, 1), (372, 1), (373, 1), (374, 1), (375, 1), (376, 1), (377, 1), (378, 1), (379, 1), (380, 1)]\n",
            "Document35: [(29, 1), (48, 4), (81, 1), (83, 2), (90, 1), (91, 1), (120, 1), (193, 1), (259, 1), (260, 1), (262, 1), (263, 1), (355, 1), (361, 1), (381, 1), (382, 1), (383, 1), (384, 1), (385, 1), (386, 1)]\n",
            "Document36: [(55, 1), (81, 1), (109, 1), (120, 1), (129, 1), (175, 1), (261, 1), (308, 1), (387, 1), (388, 1), (389, 1), (390, 1)]\n",
            "Document37: [(1, 1), (48, 2), (49, 1), (66, 3), (81, 2), (83, 1), (90, 1), (94, 1), (260, 1), (261, 1), (308, 1), (322, 2), (391, 1), (392, 1), (393, 1), (394, 1), (395, 1), (396, 1), (397, 1), (398, 1)]\n",
            "Document38: [(48, 2), (49, 1), (66, 2), (75, 1), (79, 1), (90, 2), (162, 1), (254, 1), (278, 1), (368, 1), (370, 1), (373, 1), (399, 1), (400, 1), (401, 1), (402, 1), (403, 1)]\n",
            "Document39: [(1, 2), (3, 1), (5, 1), (6, 2), (48, 2), (49, 1), (50, 1), (66, 2), (84, 1), (87, 1), (89, 1), (90, 1), (112, 1), (139, 1), (185, 1), (239, 1), (307, 1), (308, 1), (390, 1), (404, 1), (405, 1), (406, 1), (407, 1), (408, 1), (409, 2), (410, 1), (411, 1), (412, 1), (413, 1), (414, 1), (415, 1), (416, 1)]\n",
            "Document40: [(1, 1), (6, 1), (20, 1), (48, 2), (49, 2), (81, 1), (84, 1), (120, 1), (140, 1), (177, 1), (213, 1), (239, 1), (286, 1), (317, 1), (325, 1), (358, 1), (363, 1), (375, 1), (381, 1), (382, 1), (386, 1), (417, 1), (418, 1), (419, 1), (420, 1), (421, 1)]\n",
            "Document41: [(3, 1), (6, 1), (20, 1), (44, 1), (47, 1), (48, 3), (66, 1), (81, 2), (83, 2), (87, 1), (113, 1), (118, 1), (251, 1), (324, 1), (382, 1), (386, 1), (414, 1), (422, 1), (423, 1), (424, 1)]\n",
            "Document42: [(1, 1), (48, 1), (90, 1), (94, 1), (152, 1), (154, 1), (185, 1), (251, 1), (308, 1), (408, 1), (423, 1), (425, 1), (426, 1), (427, 1), (428, 1)]\n",
            "Document43: [(48, 2), (55, 1), (66, 2), (83, 1), (90, 1), (104, 1), (110, 1), (139, 1), (254, 1), (261, 1), (368, 1), (429, 1), (430, 1), (431, 1), (432, 1), (433, 1), (434, 1), (435, 1), (436, 1), (437, 1), (438, 1), (439, 1)]\n",
            "Document44: [(1, 1), (6, 2), (15, 1), (41, 1), (48, 6), (50, 1), (62, 1), (66, 1), (73, 1), (75, 1), (81, 1), (83, 2), (84, 1), (90, 1), (94, 1), (140, 1), (161, 1), (171, 1), (174, 1), (185, 1), (225, 1), (237, 1), (246, 1), (256, 1), (306, 1), (308, 1), (343, 2), (368, 1), (382, 1), (386, 1), (409, 1), (423, 1), (430, 1), (436, 1), (440, 1), (441, 1), (442, 1), (443, 1), (444, 1), (445, 1), (446, 1), (447, 1), (448, 1), (449, 1), (450, 1)]\n",
            "Document45: [(6, 1), (48, 4), (50, 1), (58, 1), (62, 1), (66, 1), (76, 1), (84, 1), (91, 1), (110, 1), (121, 1), (213, 1), (261, 1), (322, 1), (439, 1), (442, 1), (447, 1), (451, 1), (452, 1), (453, 1), (454, 1), (455, 1), (456, 1), (457, 1), (458, 1), (459, 1), (460, 1), (461, 1)]\n",
            "Document46: [(6, 1), (48, 2), (50, 1), (62, 1), (66, 1), (69, 1), (83, 1), (104, 1), (135, 1), (145, 1), (271, 1), (360, 1), (364, 1), (462, 1), (463, 1), (464, 1), (465, 1), (466, 1), (467, 1), (468, 1)]\n",
            "Document47: [(1, 1), (3, 1), (6, 1), (15, 1), (20, 1), (41, 1), (48, 2), (66, 2), (69, 1), (83, 1), (84, 1), (139, 1), (145, 1), (322, 1), (364, 1), (469, 1), (470, 1), (471, 1), (472, 1)]\n",
            "Document48: [(1, 2), (20, 1), (41, 1), (48, 2), (52, 1), (66, 1), (83, 1), (90, 1), (105, 1), (188, 1), (306, 1), (473, 1), (474, 1), (475, 1), (476, 1), (477, 1), (478, 1), (479, 1)]\n",
            "Document49: [(1, 1), (48, 1), (50, 1), (66, 1), (81, 1), (140, 1), (160, 1), (388, 2), (409, 1), (456, 1), (480, 1), (481, 1), (482, 1), (483, 1), (484, 1), (485, 1), (486, 1), (487, 1)]\n",
            "Document50: [(6, 1), (20, 1), (48, 2), (58, 1), (66, 1), (91, 1), (105, 1), (113, 1), (120, 1), (256, 1), (268, 1), (388, 1), (481, 2), (488, 1), (489, 1), (490, 1), (491, 1), (492, 1), (493, 1), (494, 1)]\n",
            "Document51: [(65, 1), (66, 2), (73, 1), (81, 1), (84, 1), (94, 1), (97, 1), (256, 2), (420, 1), (438, 1), (495, 1), (496, 1), (497, 1), (498, 1), (499, 1)]\n",
            "Document52: [(5, 1), (20, 1), (48, 4), (50, 1), (62, 1), (81, 1), (83, 2), (89, 1), (90, 1), (105, 1), (118, 2), (121, 1), (166, 1), (185, 1), (239, 1), (249, 1), (269, 1), (287, 1), (303, 1), (361, 1), (372, 1), (497, 1), (500, 1), (501, 1), (502, 1), (503, 1), (504, 1), (505, 1), (506, 1), (507, 1), (508, 1)]\n",
            "Document53: [(20, 2), (38, 1), (48, 3), (49, 1), (50, 1), (62, 1), (66, 1), (69, 1), (83, 1), (90, 1), (91, 2), (115, 1), (124, 1), (160, 1), (249, 1), (466, 1), (501, 1), (503, 1), (509, 1), (510, 1), (511, 1), (512, 1), (513, 1), (514, 1)]\n",
            "Document54: [(40, 1), (48, 1), (84, 1), (94, 1), (140, 1), (245, 1), (409, 1), (500, 1), (515, 1)]\n",
            "Document55: [(11, 1), (48, 1), (49, 1), (50, 2), (65, 1), (66, 1), (74, 1), (83, 3), (84, 1), (90, 1), (94, 1), (110, 1), (120, 1), (135, 1), (140, 2), (147, 1), (148, 1), (162, 1), (174, 2), (278, 1), (305, 1), (371, 1), (381, 1), (416, 1), (516, 1), (517, 1), (518, 1), (519, 1), (520, 1), (521, 1), (522, 1), (523, 1), (524, 1), (525, 1)]\n",
            "Document56: [(7, 1), (8, 1), (9, 1), (48, 2), (50, 1), (58, 1), (66, 2), (94, 1), (135, 1), (140, 1), (185, 1), (238, 1), (269, 1), (439, 1), (526, 1), (527, 1), (528, 1), (529, 1), (530, 1), (531, 2), (532, 1), (533, 1), (534, 1), (535, 1), (536, 1)]\n",
            "Document57: [(7, 1), (20, 2), (21, 1), (38, 1), (50, 2), (66, 4), (76, 1), (90, 1), (135, 2), (147, 1), (200, 1), (237, 1), (262, 1), (263, 1), (269, 1), (278, 1), (322, 1), (398, 1), (459, 1), (537, 1), (538, 1), (539, 1), (540, 1), (541, 1), (542, 1), (543, 1)]\n",
            "Document58: [(5, 1), (42, 1), (45, 1), (94, 1), (105, 1), (124, 1), (160, 1), (182, 1), (185, 1), (253, 1), (269, 1), (531, 1), (544, 1), (545, 1), (546, 1)]\n",
            "Document59: [(1, 2), (48, 2), (49, 1), (55, 1), (73, 2), (81, 1), (90, 1), (268, 1), (409, 1), (498, 1), (508, 1), (531, 1), (535, 1), (547, 1), (548, 1), (549, 1), (550, 1), (551, 1), (552, 1), (553, 1), (554, 1)]\n",
            "Document60: [(20, 1), (48, 3), (83, 2), (91, 1), (259, 1), (260, 1), (262, 1), (263, 1), (503, 1), (511, 1), (555, 1), (556, 1)]\n",
            "Document61: [(20, 1), (48, 4), (49, 1), (58, 1), (62, 1), (66, 1), (81, 1), (83, 2), (139, 1), (174, 1), (261, 2), (356, 1), (539, 1), (557, 1), (558, 1), (559, 1), (560, 2)]\n",
            "Document62: [(20, 1), (48, 2), (49, 1), (50, 2), (62, 1), (83, 1), (89, 1), (90, 2), (105, 1), (140, 1), (188, 1), (281, 2), (302, 1), (319, 1), (502, 1), (561, 1), (562, 1), (563, 1), (564, 1), (565, 1), (566, 1), (567, 1), (568, 1), (569, 1)]\n",
            "Document63: [(1, 2), (48, 4), (58, 1), (69, 1), (83, 1), (84, 1), (91, 1), (118, 1), (120, 1), (145, 1), (162, 1), (176, 1), (184, 1), (231, 1), (292, 1), (330, 1), (343, 1), (383, 1), (511, 1), (570, 1), (571, 1), (572, 1), (573, 1), (574, 1), (575, 1)]\n",
            "Document64: [(1, 2), (48, 1), (58, 1), (66, 1), (74, 1), (83, 1), (91, 1), (103, 1), (176, 1), (206, 1), (240, 1), (255, 1), (439, 1), (528, 1), (576, 1), (577, 1), (578, 1), (579, 1), (580, 1), (581, 1), (582, 1), (583, 1)]\n",
            "Document65: [(20, 1), (48, 3), (66, 1), (76, 1), (81, 1), (91, 1), (116, 1), (239, 1), (323, 1), (468, 1), (502, 1), (539, 1), (571, 1), (584, 1), (585, 1), (586, 1), (587, 1), (588, 1)]\n",
            "Document66: [(48, 1), (49, 1), (75, 1), (90, 1), (105, 1), (140, 1), (159, 1), (176, 1), (192, 2), (502, 1), (589, 1), (590, 1), (591, 1), (592, 1), (593, 1), (594, 1)]\n",
            "Document67: [(48, 1), (62, 1), (75, 1), (83, 1), (84, 1), (249, 2), (595, 1), (596, 1), (597, 1)]\n",
            "Document68: [(50, 1), (66, 1), (84, 1), (94, 2), (134, 1), (140, 1), (143, 1), (176, 1), (192, 1), (416, 1), (428, 1), (598, 1), (599, 1), (600, 1), (601, 1)]\n",
            "Document69: [(20, 1), (29, 1), (48, 3), (50, 2), (66, 1), (74, 1), (81, 1), (83, 1), (105, 1), (135, 1), (162, 1), (245, 1), (439, 1), (506, 1), (507, 1), (508, 1), (597, 1), (602, 1), (603, 1), (604, 1), (605, 1), (606, 1), (607, 1), (608, 1), (609, 1), (610, 1)]\n",
            "Document70: [(1, 1), (20, 3), (48, 2), (131, 1), (145, 1), (159, 1), (231, 1), (249, 1), (322, 1), (507, 1), (554, 1), (604, 1), (611, 1), (612, 1), (613, 1), (614, 1), (615, 1)]\n",
            "Document71: [(46, 1), (48, 1), (66, 1), (91, 1), (109, 1), (120, 1), (135, 1), (140, 1), (173, 1), (175, 1), (176, 1), (416, 1), (420, 1), (552, 1), (604, 1), (616, 1), (617, 1), (618, 1)]\n",
            "Document72: [(1, 2), (29, 1), (48, 1), (80, 1), (91, 1), (101, 1), (105, 1), (110, 1), (214, 1), (501, 1), (604, 1), (613, 1), (619, 1), (620, 1), (621, 1), (622, 1), (623, 1), (624, 1), (625, 1), (626, 1)]\n",
            "Document73: [(46, 1), (50, 1), (66, 1), (84, 1), (94, 1), (103, 1), (115, 1), (140, 1), (143, 1), (175, 1), (185, 1), (237, 1), (409, 1), (506, 1), (627, 1), (628, 1), (629, 1), (630, 1), (631, 1)]\n",
            "Document74: [(1, 1), (13, 1), (48, 3), (50, 1), (69, 1), (73, 1), (89, 1), (91, 1), (94, 1), (113, 1), (162, 1), (173, 1), (185, 1), (188, 1), (212, 1), (501, 1), (560, 1), (632, 1), (633, 1), (634, 1), (635, 1), (636, 2), (637, 1)]\n",
            "Document75: [(1, 1), (17, 1), (20, 1), (48, 3), (91, 1), (135, 1), (174, 1), (239, 1), (249, 1), (638, 1), (639, 1), (640, 1), (641, 1), (642, 1), (643, 1)]\n",
            "Document76: [(29, 1), (48, 4), (50, 1), (52, 1), (69, 1), (73, 1), (83, 3), (89, 1), (91, 1), (124, 1), (182, 1), (258, 1), (259, 1), (260, 1), (262, 1), (263, 1), (319, 1), (384, 1), (644, 2), (645, 1), (646, 1), (647, 1), (648, 1), (649, 1), (650, 1), (651, 1), (652, 1), (653, 1)]\n",
            "Document77: [(1, 1), (20, 1), (29, 1), (48, 2), (69, 1), (76, 1), (83, 2), (84, 1), (94, 1), (148, 1), (261, 1), (384, 1), (654, 1)]\n",
            "Document78: [(1, 1), (48, 1), (49, 1), (50, 1), (66, 1), (73, 1), (83, 1), (91, 1), (94, 2), (105, 1), (135, 1), (140, 2), (162, 1), (174, 1), (176, 1), (177, 1), (192, 1), (213, 1), (239, 3), (240, 1), (256, 1), (296, 1), (333, 1), (342, 1), (524, 1), (546, 1), (565, 1), (655, 1), (656, 1), (657, 1), (658, 1), (659, 1)]\n",
            "Document79: [(1, 1), (5, 1), (29, 1), (48, 5), (83, 2), (90, 2), (143, 1), (176, 1), (181, 1), (261, 1), (319, 1), (409, 1), (415, 1), (647, 1), (660, 1), (661, 1), (662, 1), (663, 1), (664, 1), (665, 1)]\n",
            "Document80: [(1, 1), (52, 1), (74, 1), (90, 1), (94, 1), (105, 1), (110, 1), (140, 1), (148, 1), (176, 1), (219, 1), (516, 1), (666, 1), (667, 1), (668, 1), (669, 1), (670, 1)]\n",
            "Document81: [(1, 1), (18, 1), (48, 2), (83, 2), (90, 1), (91, 2), (105, 1), (307, 1), (312, 1), (315, 1), (668, 1), (671, 1), (672, 1)]\n",
            "Document82: [(48, 2), (50, 1), (55, 1), (58, 1), (66, 2), (81, 1), (83, 1), (84, 1), (90, 1), (94, 1), (472, 1), (555, 1), (644, 1), (668, 1), (673, 1), (674, 1), (675, 1), (676, 2), (677, 1), (678, 1)]\n",
            "Document83: [(1, 1), (5, 1), (58, 1), (66, 1), (75, 1), (91, 1), (176, 1), (182, 1), (185, 1), (192, 1), (319, 1), (343, 1), (475, 1), (648, 1), (652, 1), (679, 1), (680, 1), (681, 1), (682, 1), (683, 2), (684, 1)]\n",
            "Document84: [(25, 1), (48, 3), (74, 1), (76, 1), (81, 1), (83, 1), (89, 1), (90, 1), (91, 1), (94, 1), (105, 1), (110, 1), (114, 1), (139, 1), (140, 1), (145, 1), (167, 1), (178, 1), (185, 1), (239, 1), (251, 1), (253, 1), (259, 1), (260, 1), (262, 1), (263, 1), (644, 1), (660, 1), (685, 1), (686, 1), (687, 1), (688, 1), (689, 1)]\n",
            "Document85: [(20, 1), (48, 2), (50, 1), (66, 1), (73, 1), (84, 1), (133, 1), (139, 1), (143, 1), (207, 1), (261, 1), (296, 1), (302, 1), (319, 1), (341, 1), (467, 1), (610, 1), (645, 1), (648, 1), (652, 1), (690, 1), (691, 1), (692, 1), (693, 1), (694, 1)]\n",
            "Document86: [(20, 1), (48, 1), (50, 3), (55, 1), (66, 2), (73, 1), (81, 1), (84, 1), (97, 1), (101, 1), (162, 2), (212, 1), (334, 1), (401, 1), (468, 1), (501, 1), (605, 1), (645, 1), (646, 1), (649, 1), (695, 1), (696, 1), (697, 1), (698, 1), (699, 1), (700, 1), (701, 1), (702, 1), (703, 1)]\n",
            "Document87: [(20, 1), (58, 1), (66, 2), (73, 1), (123, 1), (249, 2), (398, 1), (420, 1), (498, 1), (563, 1), (595, 1), (645, 1), (646, 1), (682, 1), (704, 1), (705, 1), (706, 1)]\n",
            "Document88: [(48, 1), (66, 1), (135, 1), (174, 1), (597, 1), (648, 1), (704, 1)]\n",
            "Document89: [(48, 4), (49, 1), (50, 1), (58, 1), (81, 1), (83, 1), (90, 2), (174, 1), (182, 1), (225, 1), (296, 1), (302, 1), (343, 1), (425, 1), (635, 1), (648, 1), (707, 1), (708, 1), (709, 1), (710, 1), (711, 1)]\n",
            "Document90: [(48, 1), (49, 1), (50, 1), (58, 1), (74, 1), (75, 1), (79, 1), (170, 1), (207, 1), (249, 1), (344, 1), (451, 1), (536, 1), (656, 1), (698, 1), (711, 1), (712, 1), (713, 1), (714, 1), (715, 1), (716, 1)]\n",
            "Document91: [(1, 1), (20, 1), (48, 1), (49, 2), (50, 1), (58, 1), (66, 1), (83, 1), (110, 1), (147, 1), (207, 1), (245, 1), (269, 1), (341, 1), (349, 1), (399, 1), (498, 1), (501, 1), (573, 1), (609, 1), (646, 2), (698, 1), (717, 1), (718, 1), (719, 1), (720, 1), (721, 1), (722, 1)]\n",
            "Document92: [(723, 1)]\n"
          ]
        }
      ]
    },
    {
      "cell_type": "code",
      "source": [
        "for i in range(len(corpus)):\n",
        "  print(documents[i])\n",
        "  print(corpus[i])"
      ],
      "metadata": {
        "colab": {
          "base_uri": "https://localhost:8080/"
        },
        "collapsed": true,
        "id": "0c3sYMoew9-G",
        "outputId": "a7985c72-ca4a-4eae-f5b6-3b8369c8a7c1"
      },
      "execution_count": null,
      "outputs": [
        {
          "output_type": "stream",
          "name": "stdout",
          "text": [
            "Key Features\n",
            " Display6.1-inch OLED display with great HDR support\n",
            " Safety featuresEmergency SOS via satellite and Car Crash Detection\n",
            " Improved rear camera12MP wide camera takes better low-light snaps\n",
            "Recommended videosPowered by AnyClip\n",
            "Remember when Oppo launched this - the original Find X #retro #shorts #findx\n",
            "36.2K\n",
            "2\n",
            "Video Player is loading.Play VideoBrand logo\n",
            "\n",
            "\n",
            "thumbnail-kvyei5trjjguewrnkndeqwcpi5feiz2j3 reasons to pick the Samsung Galaxy Ring over the Oura Ring 4 #oura #galaxyring #shorts\n",
            "thumbnail-obxtgslpgvguewrnkndeqwcpi5wvcy2eNEW Amazon Kindle (2024) review - Why buy the Paperwhite?\n",
            "[(0, 1), (1, 1), (2, 1), (3, 1), (4, 1), (5, 1), (6, 1), (7, 1), (8, 1), (9, 1), (10, 1), (11, 1), (12, 1), (13, 1), (14, 1), (15, 1), (16, 1), (17, 1), (18, 1), (19, 1), (20, 1), (21, 1), (22, 1), (23, 1), (24, 1), (25, 1), (26, 1), (27, 1), (28, 2), (29, 1), (30, 1), (31, 1), (32, 1), (33, 1), (34, 1), (35, 1), (36, 1), (37, 1), (38, 1), (39, 2), (40, 1), (41, 1), (42, 1), (43, 2), (44, 1), (45, 1), (46, 1), (47, 1), (48, 4), (49, 1), (50, 1), (51, 1), (52, 1), (53, 1), (54, 1), (55, 1), (56, 1), (57, 1), (58, 1), (59, 1)]\n",
            "thumbnail-nz2wc2loobguezcjkbvti6dqjvifivzn3 reasons to pick Oura Ring 4 over Galaxy Ring #oura4 #galaxyring #shorts\n",
            "thumbnail-hewuun3nljguezcjkbvti6dqjuyhmttzNEW Macbook Pro (M4 Pro) 3 weeks later - Worth the upgrade!\n",
            "[(15, 1), (16, 1), (28, 1), (29, 1), (31, 1), (34, 1), (39, 2), (43, 1), (48, 1), (50, 1), (60, 1), (61, 1), (62, 2), (63, 1), (64, 1), (65, 1)]\n",
            "thumbnail-nn2dsvtmjjguezcjkbvti6dqjuzgyokeRemember when Oppo launched this - the original Find X #retro #shorts #findxNOW PLAYING\n",
            "thumbnail-jf2w65tkgvguezsxkjmxa23umfmum3tyDid you know - Kindle Paperwhite has a web browser!\n",
            "[(13, 1), (22, 1), (23, 1), (26, 1), (27, 1), (30, 1), (37, 1), (43, 1), (48, 1), (49, 1), (55, 1), (59, 1), (66, 1), (67, 1), (68, 1), (69, 1), (70, 1), (71, 1), (72, 1), (73, 1)]\n",
            "😱\n",
            "thumbnail-lbcdasljobguenlek5kfsudrnz3wewk7How to schedule the warm light on your Kindle Paperwhite #kindlepaperwhite #shorts\n",
            "Introduction\n",
            "With the subsequent release of the iPhone 15 and iPhone 16, the iPhone 14 is no longer the latest smartphone in Apple’s collection – but it could still be a worthy purchase depending on the circumstances.\n",
            "[(1, 1), (20, 1), (22, 1), (30, 1), (43, 1), (48, 6), (50, 1), (58, 1), (66, 1), (74, 1), (75, 1), (76, 1), (77, 1), (78, 1), (79, 1), (80, 1), (81, 1), (82, 1), (83, 3), (84, 1), (85, 1), (86, 1), (87, 1), (88, 1), (89, 1), (90, 1), (91, 2), (92, 1), (93, 1), (94, 1), (95, 1), (96, 1), (97, 1), (98, 1), (99, 1), (100, 1), (101, 1)]\n",
            "Sure, the iPhone 14 doesn’t offer all the bells and whistles of newer models, like support for Apple Intelligence, boosted performance, and an upgraded 48MP rear camera, but its age is also a massive benefit.\n",
            "[(1, 2), (6, 1), (20, 1), (33, 1), (46, 1), (48, 2), (66, 1), (74, 1), (76, 1), (83, 1), (90, 1), (102, 1), (103, 1), (104, 1), (105, 1), (106, 1), (107, 1), (108, 1), (109, 1), (110, 1), (111, 1), (112, 1), (113, 1), (114, 1), (115, 1), (116, 1), (117, 1), (118, 1), (119, 1), (120, 1), (121, 1), (122, 1)]\n",
            "That’s mainly because the phone is now available for much less than its original £849 RRP, especially around big shopping seasons like Black Friday and Christmas.\n",
            "[(1, 1), (20, 1), (27, 1), (48, 1), (94, 1), (110, 1), (112, 1), (113, 1), (123, 1), (124, 1), (125, 1), (126, 1), (127, 1), (128, 1), (129, 1), (130, 1), (131, 1), (132, 1), (133, 1), (134, 1), (135, 1), (136, 1), (137, 1), (138, 1), (139, 1), (140, 1)]\n",
            "So, should you still go for the iPhone 14 in 2024?\n",
            "[(48, 1), (73, 1), (81, 1), (83, 1), (97, 1), (110, 1), (141, 1), (142, 1), (143, 1)]\n",
            "Here’s what we think of the 2022 flagship.\n",
            "[(48, 1), (90, 1), (94, 1), (144, 1), (145, 1), (146, 1), (147, 1), (148, 1)]\n",
            "Screen and Design\n",
            "Looks identical to the iPhone 13 (and iPhone 12)\n",
            "Nice display, but no ProMotion or Dynamic Island\n",
            "New array of colours, including a nice light blue\n",
            "For the third year running, Apple has stuck to the same overall design for its cheaper iPhone model.\n",
            "[(1, 2), (10, 1), (48, 3), (50, 2), (66, 1), (69, 1), (74, 1), (76, 1), (83, 3), (87, 1), (89, 1), (90, 1), (110, 2), (112, 1), (149, 1), (150, 1), (151, 1), (152, 1), (153, 2), (154, 1), (155, 1), (156, 1), (157, 1), (158, 1), (159, 1), (160, 1), (161, 2), (162, 1), (163, 1), (164, 1), (165, 1), (166, 1), (167, 1), (168, 1), (169, 1), (170, 1)]\n",
            "Aside from some slightly tweaked colours, including this rather tasteful blue I have been reviewing, there’s no obvious way to tell the 2021 and 2022 releases apart.\n",
            "[(1, 1), (48, 1), (49, 1), (50, 1), (89, 1), (94, 1), (150, 1), (152, 1), (156, 1), (171, 1), (172, 1), (173, 1), (174, 1), (175, 1), (176, 1), (177, 1), (178, 1), (179, 1), (180, 1), (181, 1), (182, 1), (183, 1), (184, 1), (185, 1), (186, 1), (187, 1)]\n",
            "While some tweaks would have been welcome, the iPhone 14 remains a good-looking phone.\n",
            "[(48, 1), (66, 1), (83, 1), (135, 1), (173, 1), (175, 1), (182, 1), (188, 1), (189, 1), (190, 1), (191, 1), (192, 1)]\n",
            "The flat sides have a matte finish so eschew fingerprints and smudges – very much the opposite of the iPhone 14 Pro – and I like how they match the colour of the glass back.\n",
            "[(1, 2), (48, 5), (62, 1), (66, 1), (83, 1), (90, 2), (113, 1), (133, 1), (143, 1), (175, 1), (176, 1), (193, 1), (194, 1), (195, 1), (196, 1), (197, 1), (198, 1), (199, 1), (200, 1), (201, 1), (202, 1), (203, 1), (204, 1), (205, 1), (206, 1), (207, 1)]\n",
            "It’s a light, comfortable device that’ll feel familiar to most.\n",
            "[(50, 1), (66, 1), (84, 1), (87, 1), (94, 1), (140, 1), (208, 1), (209, 1), (210, 1), (211, 1), (212, 1), (213, 1)]\n",
            "It’s also fairly durable, with an IP68 rating for water protection and Apple’s Ceramic Shield for adding some extra protection against drops.\n",
            "[(1, 1), (58, 1), (74, 1), (84, 1), (94, 2), (104, 1), (105, 1), (110, 2), (182, 1), (214, 1), (215, 1), (216, 1), (217, 1), (218, 1), (219, 1), (220, 1), (221, 2), (222, 1), (223, 1), (224, 1)]\n",
            "I still find these screens scratch too easily for my liking, so a screen protector is still a must for keeping the panel in the best condition.\n",
            "[(13, 1), (20, 1), (48, 2), (66, 2), (81, 1), (97, 2), (110, 2), (143, 1), (167, 1), (176, 1), (225, 1), (226, 1), (227, 1), (228, 1), (229, 1), (230, 1), (231, 1), (232, 1), (233, 1), (234, 1), (235, 1), (236, 1), (237, 1)]\n",
            "A few months after unboxing the phone there are some small scratches on the display.\n",
            "[(10, 1), (48, 2), (66, 1), (91, 1), (135, 1), (182, 1), (185, 1), (238, 1), (239, 1), (240, 1), (241, 1), (242, 1), (243, 1), (244, 1)]\n",
            "There’s no iPhone 14 Mini, instead, there’s a larger iPhone 14 Plus.\n",
            "[(66, 1), (83, 2), (89, 1), (94, 2), (185, 2), (245, 1), (246, 1), (247, 1), (248, 1)]\n",
            "The Plus has all the same tech as the regular iPhone 14, just in a larger body.\n",
            "[(48, 3), (66, 1), (69, 1), (81, 1), (83, 1), (103, 1), (166, 1), (246, 1), (248, 1), (249, 1), (250, 1), (251, 1), (252, 1), (253, 1)]\n",
            "If you like watching movies on the go or playing games, the bigger screen is better.\n",
            "[(3, 1), (20, 1), (48, 2), (71, 1), (73, 1), (91, 1), (113, 1), (141, 1), (162, 1), (167, 1), (254, 1), (255, 1), (256, 1), (257, 1), (258, 1)]\n",
            "The back of the iPhone 14\n",
            "Image Credit (Trusted Reviews)\n",
            "Like the design, the display is more of the same.\n",
            "[(10, 1), (20, 1), (48, 5), (83, 1), (90, 2), (113, 1), (153, 1), (166, 1), (193, 1), (259, 1), (260, 1), (261, 1), (262, 1), (263, 1)]\n",
            "ProMotion, the 120Hz adaptive refresh rate tech that enables the iPhone 14 Pro’s always-on display, is missing and if rumours are to be believed it won’t even feature on the iPhone 15 due to supply issues.\n",
            "[(1, 1), (10, 1), (20, 1), (48, 3), (50, 2), (62, 1), (75, 1), (83, 2), (84, 1), (91, 1), (94, 1), (120, 1), (140, 1), (164, 1), (239, 1), (253, 1), (256, 1), (264, 1), (265, 1), (266, 1), (267, 1), (268, 1), (269, 1), (270, 1), (271, 1), (272, 1), (273, 1), (274, 1), (275, 1), (276, 1)]\n",
            "That’s a real shame, as the smooth scrolling and extra skills this panel tech allows for are hugely missed, at least for me.\n",
            "[(1, 1), (48, 1), (49, 1), (66, 1), (94, 1), (110, 2), (140, 1), (219, 1), (232, 1), (239, 1), (249, 1), (253, 1), (277, 1), (278, 1), (279, 1), (280, 1), (281, 1), (282, 1), (283, 1), (284, 1), (285, 1), (286, 1), (287, 1)]\n",
            "You wouldn’t miss ProMotion or a high refresh rate if you’ve never used it, but it’s a feature that is hard to lose.\n",
            "[(20, 1), (50, 1), (66, 2), (73, 2), (76, 1), (84, 2), (94, 1), (120, 1), (140, 1), (162, 1), (164, 1), (256, 1), (269, 1), (272, 1), (273, 1), (288, 1), (289, 1), (290, 1), (291, 1), (292, 1), (293, 1), (294, 1), (295, 1)]\n",
            "It’s hard to give Apple a pass on not including a faster screen here, as even budget Android phones have them.\n",
            "[(50, 1), (66, 2), (74, 1), (84, 1), (91, 1), (94, 1), (145, 1), (156, 1), (167, 1), (175, 1), (249, 1), (268, 1), (288, 1), (296, 1), (297, 1), (298, 1), (299, 1), (300, 1), (301, 1), (302, 1), (303, 1)]\n",
            "The most comparable Samsung flagship, the Galaxy S23, also has a 120Hz display.\n",
            "[(10, 1), (15, 1), (41, 1), (48, 2), (66, 1), (69, 1), (104, 1), (144, 1), (213, 1), (304, 1)]\n",
            "It remains a good screen, though.\n",
            "[(66, 1), (84, 1), (167, 1), (188, 1), (305, 1), (306, 1)]\n",
            "Colours are faithful, there’s enough brightness for impactful HDR performance when streaming from Netflix, Apple TV Plus or others and the detail is sharp.\n",
            "[(1, 1), (18, 1), (20, 1), (48, 1), (55, 1), (74, 1), (94, 1), (110, 1), (118, 1), (152, 1), (162, 1), (174, 1), (185, 1), (239, 1), (248, 1), (307, 1), (308, 1), (309, 1), (310, 1), (311, 1), (312, 1), (313, 1), (314, 1), (315, 1), (316, 1)]\n",
            "The iPhone 14 Pro’s higher peak brightness makes it far more readable outdoors in really bright conditions and could be a deciding factor for someone who spends a lot of the day outside.\n",
            "[(1, 1), (48, 2), (62, 1), (66, 2), (75, 1), (79, 1), (81, 1), (83, 1), (84, 1), (90, 1), (94, 1), (110, 1), (261, 1), (307, 1), (317, 1), (318, 1), (319, 1), (320, 1), (321, 1), (322, 1), (323, 1), (324, 1), (325, 1), (326, 1), (327, 1), (328, 1), (329, 1), (330, 1), (331, 1), (332, 1), (333, 1)]\n",
            "The 6.1-inch OLED screen on the iPhone 14\n",
            "Image Credit (Trusted Reviews)\n",
            "Dynamic Island is another thing exclusive to the iPhone 14 Pro, leaving the iPhone 14 with the same dated notch as before.\n",
            "[(20, 1), (25, 1), (48, 5), (50, 1), (58, 1), (62, 1), (83, 3), (91, 1), (154, 1), (157, 1), (166, 1), (167, 1), (249, 1), (259, 1), (260, 1), (262, 1), (263, 1), (334, 1), (335, 1), (336, 1), (337, 1), (338, 1), (339, 1), (340, 1)]\n",
            "You can read all about the benefits of the Dynamic Island and how it turns the notch into a feature rather than an irritant in our iPhone 14 Pro review.\n",
            "[(1, 1), (38, 1), (48, 3), (62, 1), (66, 1), (73, 1), (81, 1), (83, 1), (84, 1), (90, 1), (103, 1), (105, 1), (139, 1), (154, 1), (157, 1), (178, 1), (200, 1), (269, 1), (339, 1), (341, 1), (342, 1), (343, 1), (344, 1), (345, 1), (346, 1), (347, 1), (348, 1)]\n",
            "It’s expected to feature on the iPhone 15, so could prove a major incentive to wait for the successor.\n",
            "[(48, 2), (50, 2), (66, 1), (79, 1), (83, 1), (84, 1), (91, 1), (94, 1), (110, 1), (143, 1), (269, 1), (349, 1), (350, 1), (351, 1), (352, 1), (353, 1), (354, 1)]\n",
            "Camera\n",
            "Two cameras on the back\n",
            "Improved selfie camera\n",
            "Telephoto zoom limited to the Pro\n",
            "The camera is the place where the most upgrades for the iPhone 14 are found.\n",
            "[(6, 3), (19, 1), (20, 1), (48, 6), (50, 1), (62, 1), (83, 1), (91, 1), (110, 1), (193, 1), (213, 1), (239, 1), (355, 1), (356, 1), (357, 1), (358, 1), (359, 1), (360, 1), (361, 1), (362, 1), (363, 1), (364, 1)]\n",
            "It packs the same 12MP rear sensor with an f/1.5 aperture as the iPhone 13 Pro, meaning it’s larger and faster than the iPhone 13.\n",
            "[(1, 1), (33, 1), (48, 3), (58, 1), (62, 1), (83, 2), (84, 2), (94, 1), (105, 1), (139, 1), (166, 1), (246, 1), (249, 1), (298, 1), (365, 1), (366, 1), (367, 1), (368, 1)]\n",
            "There are some notable upgrades that make the selfie camera much better at rendering accurate skin tones, and a slight tweaking of the image processing pipeline with the Photonic Engine.\n",
            "[(1, 1), (3, 1), (6, 1), (48, 3), (58, 1), (66, 1), (90, 1), (133, 1), (140, 1), (182, 1), (185, 1), (239, 1), (260, 1), (278, 1), (359, 1), (362, 1), (369, 1), (370, 1), (371, 1), (372, 1), (373, 1), (374, 1), (375, 1), (376, 1), (377, 1), (378, 1), (379, 1), (380, 1)]\n",
            "Two cameras on the back of the iPhone 14\n",
            "Image Credit (Trusted Reviews)\n",
            "The improvements over the iPhone 13 aren’t necessarily felt in daylight situations.\n",
            "[(29, 1), (48, 4), (81, 1), (83, 2), (90, 1), (91, 1), (120, 1), (193, 1), (259, 1), (260, 1), (262, 1), (263, 1), (355, 1), (361, 1), (381, 1), (382, 1), (383, 1), (384, 1), (385, 1), (386, 1)]\n",
            "Low-light shots have more detail, especially when Night Mode doesn’t kick in.\n",
            "[(55, 1), (81, 1), (109, 1), (120, 1), (129, 1), (175, 1), (261, 1), (308, 1), (387, 1), (388, 1), (389, 1), (390, 1)]\n",
            "Taking a picture of a dog’s fur, the iPhone 14 retained far more detail in the strands and this resulted in a far nicer image.\n",
            "[(1, 1), (48, 2), (49, 1), (66, 3), (81, 2), (83, 1), (90, 1), (94, 1), (260, 1), (261, 1), (308, 1), (322, 2), (391, 1), (392, 1), (393, 1), (394, 1), (395, 1), (396, 1), (397, 1), (398, 1)]\n",
            "This could either be a result of the Photonic Engine, the bigger sensor at play – or a combination of both.\n",
            "[(48, 2), (49, 1), (66, 2), (75, 1), (79, 1), (90, 2), (162, 1), (254, 1), (278, 1), (368, 1), (370, 1), (373, 1), (399, 1), (400, 1), (401, 1), (402, 1), (403, 1)]\n",
            "iphone14lowlightsample\n",
            "This was a scene lit by a single light, and the camera pulls out lots of detail and brightness\n",
            "iphone14lowlightsample\n",
            "There are no changes to the ultrawide camera, yet it again churns out better low-light shots than its predecessor.\n",
            "[(1, 2), (3, 1), (5, 1), (6, 2), (48, 2), (49, 1), (50, 1), (66, 2), (84, 1), (87, 1), (89, 1), (90, 1), (112, 1), (139, 1), (185, 1), (239, 1), (307, 1), (308, 1), (390, 1), (404, 1), (405, 1), (406, 1), (407, 1), (408, 1), (409, 2), (410, 1), (411, 1), (412, 1), (413, 1), (414, 1), (415, 1), (416, 1)]\n",
            "This is the most obvious place where the updated processing skills are seen and it actually makes this camera worthwhile using in situations that aren’t bright daylight.\n",
            "[(1, 1), (6, 1), (20, 1), (48, 2), (49, 2), (81, 1), (84, 1), (120, 1), (140, 1), (177, 1), (213, 1), (239, 1), (286, 1), (317, 1), (325, 1), (358, 1), (363, 1), (375, 1), (381, 1), (382, 1), (386, 1), (417, 1), (418, 1), (419, 1), (420, 1), (421, 1)]\n",
            "hone14lowlightsampleultrawide\n",
            "The ultrawide camera performance is a lot better in poor light\n",
            "In daylight situations, the iPhone 14 takes excellent snaps – just like the iPhone 13 did.\n",
            "[(3, 1), (6, 1), (20, 1), (44, 1), (47, 1), (48, 3), (66, 1), (81, 2), (83, 2), (87, 1), (113, 1), (118, 1), (251, 1), (324, 1), (382, 1), (386, 1), (414, 1), (422, 1), (423, 1), (424, 1)]\n",
            "Colours pop just the right amount, there’s lots of detail and excellent dynamic range.\n",
            "[(1, 1), (48, 1), (90, 1), (94, 1), (152, 1), (154, 1), (185, 1), (251, 1), (308, 1), (408, 1), (423, 1), (425, 1), (426, 1), (427, 1), (428, 1)]\n",
            "The bigger sensor also gives a shallower depth of field than the iPhone 13, allowing for a more natural blurry background when shooting up close.\n",
            "[(48, 2), (55, 1), (66, 2), (83, 1), (90, 1), (104, 1), (110, 1), (139, 1), (254, 1), (261, 1), (368, 1), (429, 1), (430, 1), (431, 1), (432, 1), (433, 1), (434, 1), (435, 1), (436, 1), (437, 1), (438, 1), (439, 1)]\n",
            "iphone14backgroundblur\n",
            "There’s a nice natural background blur thanks to the larger sensor\n",
            "iphone14daylightdetail\n",
            "The camera can pull out plenty of detail in daylight situations, though telling it apart from the iPhone 13 can be tricky\n",
            "If you want the best camera experience, the iPhone 14 Pro reigns – and the excellent Samsung Galaxy S23 Ultra beats that too.\n",
            "[(1, 1), (6, 2), (15, 1), (41, 1), (48, 6), (50, 1), (62, 1), (66, 1), (73, 1), (75, 1), (81, 1), (83, 2), (84, 1), (90, 1), (94, 1), (140, 1), (161, 1), (171, 1), (174, 1), (185, 1), (225, 1), (237, 1), (246, 1), (256, 1), (306, 1), (308, 1), (343, 2), (368, 1), (382, 1), (386, 1), (409, 1), (423, 1), (430, 1), (436, 1), (440, 1), (441, 1), (442, 1), (443, 1), (444, 1), (445, 1), (446, 1), (447, 1), (448, 1), (449, 1), (450, 1)]\n",
            "The upgraded 48MP main camera on the 14 Pro might oversharpen certain images, but for the most part, it offers up a superior experience with far more control thanks to the ProRes modes.\n",
            "[(6, 1), (48, 4), (50, 1), (58, 1), (62, 1), (66, 1), (76, 1), (84, 1), (91, 1), (110, 1), (121, 1), (213, 1), (261, 1), (322, 1), (439, 1), (442, 1), (447, 1), (451, 1), (452, 1), (453, 1), (454, 1), (455, 1), (456, 1), (457, 1), (458, 1), (459, 1), (460, 1), (461, 1)]\n",
            "The Pro phone also has a dedicated telephoto camera, something completely missing here, forcing the iPhone 14 to only use digital zoom.\n",
            "[(6, 1), (48, 2), (50, 1), (62, 1), (66, 1), (69, 1), (83, 1), (104, 1), (135, 1), (145, 1), (271, 1), (360, 1), (364, 1), (462, 1), (463, 1), (464, 1), (465, 1), (466, 1), (467, 1), (468, 1)]\n",
            "The Samsung Galaxy S23 is a similar price and has a proper zoom camera, making it far better here than the iPhone.\n",
            "[(1, 1), (3, 1), (6, 1), (15, 1), (20, 1), (41, 1), (48, 2), (66, 2), (69, 1), (83, 1), (84, 1), (139, 1), (145, 1), (322, 1), (364, 1), (469, 1), (470, 1), (471, 1), (472, 1)]\n",
            "Video remains a strong skill though, and an area the iPhone 14 is comfortably ahead of the Samsung and Google competition.\n",
            "[(1, 2), (20, 1), (41, 1), (48, 2), (52, 1), (66, 1), (83, 1), (90, 1), (105, 1), (188, 1), (306, 1), (473, 1), (474, 1), (475, 1), (476, 1), (477, 1), (478, 1), (479, 1)]\n",
            "New modes include a stabilised Action Mode that smooths out fast-moving subjects and the ability to shoot 4K in Cinematic Mode.\n",
            "[(1, 1), (48, 1), (50, 1), (66, 1), (81, 1), (140, 1), (160, 1), (388, 2), (409, 1), (456, 1), (480, 1), (481, 1), (482, 1), (483, 1), (484, 1), (485, 1), (486, 1), (487, 1)]\n",
            "Action Mode is a neat trick, even if the stabilisation isn’t on par with an action camera like the GoPro Hero 11.\n",
            "[(6, 1), (20, 1), (48, 2), (58, 1), (66, 1), (91, 1), (105, 1), (113, 1), (120, 1), (256, 1), (268, 1), (388, 1), (481, 2), (488, 1), (489, 1), (490, 1), (491, 1), (492, 1), (493, 1), (494, 1)]\n",
            "Still, if you’re shooting in a well-lit environment it’s worth using if capturing a fast subject.\n",
            "[(65, 1), (66, 2), (73, 1), (81, 1), (84, 1), (94, 1), (97, 1), (256, 2), (420, 1), (438, 1), (495, 1), (496, 1), (497, 1), (498, 1), (499, 1)]\n",
            "Performance\n",
            "Powered by the same chip as the iPhone 13 Pro\n",
            "No SIM slot in the US\n",
            "Fast, smooth performance\n",
            "There are two notable feature additions to the iPhone 14, although neither of them is an upgraded chipset.\n",
            "[(5, 1), (20, 1), (48, 4), (50, 1), (62, 1), (81, 1), (83, 2), (89, 1), (90, 1), (105, 1), (118, 2), (121, 1), (166, 1), (185, 1), (239, 1), (249, 1), (269, 1), (287, 1), (303, 1), (361, 1), (372, 1), (497, 1), (500, 1), (501, 1), (502, 1), (503, 1), (504, 1), (505, 1), (506, 1), (507, 1), (508, 1)]\n",
            "As has become a recurring theme of this review, the new A16 Bionic chipset is only available on the Pro models, although is tipped to arrive on the iPhone 15.\n",
            "[(20, 2), (38, 1), (48, 3), (49, 1), (50, 1), (62, 1), (66, 1), (69, 1), (83, 1), (90, 1), (91, 2), (115, 1), (124, 1), (160, 1), (249, 1), (466, 1), (501, 1), (503, 1), (509, 1), (510, 1), (511, 1), (512, 1), (513, 1), (514, 1)]\n",
            "Instead, it’s the safety additions that stand out.\n",
            "[(40, 1), (48, 1), (84, 1), (94, 1), (140, 1), (245, 1), (409, 1), (500, 1), (515, 1)]\n",
            "Those aren’t exactly features that make this iPhone 14 worth upgrading to from the iPhone 13 (or iPhone 12, for that matter), yet it’s good to see Apple looking at unique ways of expanding what we expect from a phone.\n",
            "[(11, 1), (48, 1), (49, 1), (50, 2), (65, 1), (66, 1), (74, 1), (83, 3), (84, 1), (90, 1), (94, 1), (110, 1), (120, 1), (135, 1), (140, 2), (147, 1), (148, 1), (162, 1), (174, 2), (278, 1), (305, 1), (371, 1), (381, 1), (416, 1), (516, 1), (517, 1), (518, 1), (519, 1), (520, 1), (521, 1), (522, 1), (523, 1), (524, 1), (525, 1)]\n",
            "First up there’s Car Crash Detection, a feature that uses the sensitive accelerometer inside the phone to alert emergency services (along with emergency contacts) after a collision.\n",
            "[(7, 1), (8, 1), (9, 1), (48, 2), (50, 1), (58, 1), (66, 2), (94, 1), (135, 1), (140, 1), (185, 1), (238, 1), (269, 1), (439, 1), (526, 1), (527, 1), (528, 1), (529, 1), (530, 1), (531, 2), (532, 1), (533, 1), (534, 1), (535, 1), (536, 1)]\n",
            "Testing every part of a phone is key to how we review at Trusted Reviews, but crashing a car purely to test a phone feature is taking things a little too far.\n",
            "[(7, 1), (20, 2), (21, 1), (38, 1), (50, 2), (66, 4), (76, 1), (90, 1), (135, 2), (147, 1), (200, 1), (237, 1), (262, 1), (263, 1), (269, 1), (278, 1), (322, 1), (398, 1), (459, 1), (537, 1), (538, 1), (539, 1), (540, 1), (541, 1), (542, 1), (543, 1)]\n",
            "Then there’s an emergency SOS feature made available by some clever new satellite tech.\n",
            "[(5, 1), (42, 1), (45, 1), (94, 1), (105, 1), (124, 1), (160, 1), (182, 1), (185, 1), (253, 1), (269, 1), (531, 1), (544, 1), (545, 1), (546, 1)]\n",
            "This lets you contact emergency services even when you’re out of network reach and currently live in the US, Canada and the UK.\n",
            "[(1, 2), (48, 2), (49, 1), (55, 1), (73, 2), (81, 1), (90, 1), (268, 1), (409, 1), (498, 1), (508, 1), (531, 1), (535, 1), (547, 1), (548, 1), (549, 1), (550, 1), (551, 1), (552, 1), (553, 1), (554, 1)]\n",
            "Gaming on the iPhone 14\n",
            "Image Credit (Trusted Reviews)\n",
            "Powering the iPhone 14 is the A15 Bionic chipset.\n",
            "[(20, 1), (48, 3), (83, 2), (91, 1), (259, 1), (260, 1), (262, 1), (263, 1), (503, 1), (511, 1), (555, 1), (556, 1)]\n",
            "More specifically, this is the version found in the iPhone 13 Pro, with a little more graphical grunt than the version from the iPhone 13.\n",
            "[(20, 1), (48, 4), (49, 1), (58, 1), (62, 1), (66, 1), (81, 1), (83, 2), (139, 1), (174, 1), (261, 2), (356, 1), (539, 1), (557, 1), (558, 1), (559, 1), (560, 2)]\n",
            "Let me say straight away that reusing an old chip is of no concern to me – the iPhone 13 Pro remains to this day one of the fastest phones.\n",
            "[(20, 1), (48, 2), (49, 1), (50, 2), (62, 1), (83, 1), (89, 1), (90, 2), (105, 1), (140, 1), (188, 1), (281, 2), (302, 1), (319, 1), (502, 1), (561, 1), (562, 1), (563, 1), (564, 1), (565, 1), (566, 1), (567, 1), (568, 1), (569, 1)]\n",
            "Throughout my week with the iPhone 14 it has never felt slow or laggy and I can’t really tell the difference between the performance here and on the A16 Bionic.\n",
            "[(1, 2), (48, 4), (58, 1), (69, 1), (83, 1), (84, 1), (91, 1), (118, 1), (120, 1), (145, 1), (162, 1), (176, 1), (184, 1), (231, 1), (292, 1), (330, 1), (343, 1), (383, 1), (511, 1), (570, 1), (571, 1), (572, 1), (573, 1), (574, 1), (575, 1)]\n",
            "I opened up a few Apple Arcade games, along with Genshin Impact and CoD Mobile, and they all played smoothly on the iPhone 14.\n",
            "[(1, 2), (48, 1), (58, 1), (66, 1), (74, 1), (83, 1), (91, 1), (103, 1), (176, 1), (206, 1), (240, 1), (255, 1), (439, 1), (528, 1), (576, 1), (577, 1), (578, 1), (579, 1), (580, 1), (581, 1), (582, 1), (583, 1)]\n",
            "Yes, the benchmark results are a little higher on the newer chip, but the difference is minimal in actual use.\n",
            "[(20, 1), (48, 3), (66, 1), (76, 1), (81, 1), (91, 1), (116, 1), (239, 1), (323, 1), (468, 1), (502, 1), (539, 1), (571, 1), (584, 1), (585, 1), (586, 1), (587, 1), (588, 1)]\n",
            "However, I would be concerned that having an older chip would shorten the lifespan of this model.\n",
            "[(48, 1), (49, 1), (75, 1), (90, 1), (105, 1), (140, 1), (159, 1), (176, 1), (192, 2), (502, 1), (589, 1), (590, 1), (591, 1), (592, 1), (593, 1), (594, 1)]\n",
            "Will it be supported as long as the iPhone 14 Pro?\n",
            "[(48, 1), (62, 1), (75, 1), (83, 1), (84, 1), (249, 2), (595, 1), (596, 1), (597, 1)]\n",
            "I would hope so, yet it’s a question that’s impossible to answer right now.\n",
            "[(50, 1), (66, 1), (84, 1), (94, 2), (134, 1), (140, 1), (143, 1), (176, 1), (192, 1), (416, 1), (428, 1), (598, 1), (599, 1), (600, 1), (601, 1)]\n",
            "In the US, Apple is shipping the entire iPhone 14 series without a SIM slot – instead, buyers will need to set up (or transfer over) an eSIM to the phone.\n",
            "[(20, 1), (29, 1), (48, 3), (50, 2), (66, 1), (74, 1), (81, 1), (83, 1), (105, 1), (135, 1), (162, 1), (245, 1), (439, 1), (506, 1), (507, 1), (508, 1), (597, 1), (602, 1), (603, 1), (604, 1), (605, 1), (606, 1), (607, 1), (608, 1), (609, 1), (610, 1)]\n",
            "My unit is the UK model and retains the slot which is smart, as eSIM is far less advanced here.\n",
            "[(1, 1), (20, 3), (48, 2), (131, 1), (145, 1), (159, 1), (231, 1), (249, 1), (322, 1), (507, 1), (554, 1), (604, 1), (611, 1), (612, 1), (613, 1), (614, 1), (615, 1)]\n",
            "I have been using the phone on Vodafone, a network that does support eSIM, yet Three doesn’t.\n",
            "[(46, 1), (48, 1), (66, 1), (91, 1), (109, 1), (120, 1), (135, 1), (140, 1), (173, 1), (175, 1), (176, 1), (416, 1), (420, 1), (552, 1), (604, 1), (616, 1), (617, 1), (618, 1)]\n",
            "The process for adding and transferring over an eSIM seems smart and easy, although your mileage may vary depending on networks.\n",
            "[(1, 2), (29, 1), (48, 1), (80, 1), (91, 1), (101, 1), (105, 1), (110, 1), (214, 1), (501, 1), (604, 1), (613, 1), (619, 1), (620, 1), (621, 1), (622, 1), (623, 1), (624, 1), (625, 1), (626, 1)]\n",
            "All models that have a physical SIM tray support multiple eSIMs too, so it’s there to try out.\n",
            "[(46, 1), (50, 1), (66, 1), (84, 1), (94, 1), (103, 1), (115, 1), (140, 1), (143, 1), (175, 1), (185, 1), (237, 1), (409, 1), (506, 1), (627, 1), (628, 1), (629, 1), (630, 1), (631, 1)]\n",
            "5G remains standard across the line and the Bluetooth standard has been upped to version 5.3, although there’s no Wi-Fi 6E or Wi-Fi 7 like you’ll find on the OnePlus 11.\n",
            "[(1, 1), (13, 1), (48, 3), (50, 1), (69, 1), (73, 1), (89, 1), (91, 1), (94, 1), (113, 1), (162, 1), (173, 1), (185, 1), (188, 1), (212, 1), (501, 1), (560, 1), (632, 1), (633, 1), (634, 1), (635, 1), (636, 2), (637, 1)]\n",
            "Call quality and general connectivity on the phone are great, as is the audio from the speakers.\n",
            "[(1, 1), (17, 1), (20, 1), (48, 3), (91, 1), (135, 1), (174, 1), (239, 1), (249, 1), (638, 1), (639, 1), (640, 1), (641, 1), (642, 1), (643, 1)]\n",
            "Video watching on the iPhone 14\n",
            "Image Credit (Trusted Reviews)\n",
            "Battery Life\n",
            "No charger included\n",
            "Endurance to get you through the day\n",
            "Wireless charging available\n",
            "The iPhone 14 has some modest battery improvements over the iPhone 13.\n",
            "[(29, 1), (48, 4), (50, 1), (52, 1), (69, 1), (73, 1), (83, 3), (89, 1), (91, 1), (124, 1), (182, 1), (258, 1), (259, 1), (260, 1), (262, 1), (263, 1), (319, 1), (384, 1), (644, 2), (645, 1), (646, 1), (647, 1), (648, 1), (649, 1), (650, 1), (651, 1), (652, 1), (653, 1)]\n",
            "But what’s more important is the improvements it has over the iPhone 12 and iPhone 11.\n",
            "[(1, 1), (20, 1), (29, 1), (48, 2), (69, 1), (76, 1), (83, 2), (84, 1), (94, 1), (148, 1), (261, 1), (384, 1), (654, 1)]\n",
            "I would assume most people who are keen on upgrading to this are coming from an iPhone (or Android phone) that’s a few years old, and if that’s you then the benefits are obvious.\n",
            "[(1, 1), (48, 1), (49, 1), (50, 1), (66, 1), (73, 1), (83, 1), (91, 1), (94, 2), (105, 1), (135, 1), (140, 2), (162, 1), (174, 1), (176, 1), (177, 1), (192, 1), (213, 1), (239, 3), (240, 1), (256, 1), (296, 1), (333, 1), (342, 1), (524, 1), (546, 1), (565, 1), (655, 1), (656, 1), (657, 1), (658, 1), (659, 1)]\n",
            "I was thoroughly impressed by the endurance of the iPhone 13, and the iPhone 14 ekes ever so slightly more juice out over the course of the day.\n",
            "[(1, 1), (5, 1), (29, 1), (48, 5), (83, 2), (90, 2), (143, 1), (176, 1), (181, 1), (261, 1), (319, 1), (409, 1), (415, 1), (647, 1), (660, 1), (661, 1), (662, 1), (663, 1), (664, 1), (665, 1)]\n",
            "For instance, Apple claims an extra hour of video playback and that’s exactly what I got.\n",
            "[(1, 1), (52, 1), (74, 1), (90, 1), (94, 1), (105, 1), (110, 1), (140, 1), (148, 1), (176, 1), (219, 1), (516, 1), (666, 1), (667, 1), (668, 1), (669, 1), (670, 1)]\n",
            "An hour of 100% brightness Netflix HDR streaming took off 9% on the iPhone 13, and 8% on the iPhone 14.\n",
            "[(1, 1), (18, 1), (48, 2), (83, 2), (90, 1), (91, 2), (105, 1), (307, 1), (312, 1), (315, 1), (668, 1), (671, 1), (672, 1)]\n",
            "It’s a similar story in gaming, with the battery saving a couple of per cent per hour when compared to the iPhone 13.\n",
            "[(48, 2), (50, 1), (55, 1), (58, 1), (66, 2), (81, 1), (83, 1), (84, 1), (90, 1), (94, 1), (472, 1), (555, 1), (644, 1), (668, 1), (673, 1), (674, 1), (675, 1), (676, 2), (677, 1), (678, 1)]\n",
            "I can comfortably get through a full, busy day with 20-30% left by bedtime, and on some quieter days there would be 35-40% left.\n",
            "[(1, 1), (5, 1), (58, 1), (66, 1), (75, 1), (91, 1), (176, 1), (182, 1), (185, 1), (192, 1), (319, 1), (343, 1), (475, 1), (648, 1), (652, 1), (679, 1), (680, 1), (681, 1), (682, 1), (683, 2), (684, 1)]\n",
            "The 6.1-inch OLED screen on the iPhone 14\n",
            "Image Credit (Trusted Reviews)\n",
            "Of course, there are no massive strides in battery tech here – but that’s an issue for the whole industry rather than just Apple itself.\n",
            "[(25, 1), (48, 3), (74, 1), (76, 1), (81, 1), (83, 1), (89, 1), (90, 1), (91, 1), (94, 1), (105, 1), (110, 1), (114, 1), (139, 1), (140, 1), (145, 1), (167, 1), (178, 1), (185, 1), (239, 1), (251, 1), (253, 1), (259, 1), (260, 1), (262, 1), (263, 1), (644, 1), (660, 1), (685, 1), (686, 1), (687, 1), (688, 1), (689, 1)]\n",
            "The aim is very much to get you through the day without worrying about finding a charger, something it manages more so than many Android phones.\n",
            "[(20, 1), (48, 2), (50, 1), (66, 1), (73, 1), (84, 1), (133, 1), (139, 1), (143, 1), (207, 1), (261, 1), (296, 1), (302, 1), (319, 1), (341, 1), (467, 1), (610, 1), (645, 1), (648, 1), (652, 1), (690, 1), (691, 1), (692, 1), (693, 1), (694, 1)]\n",
            "When it comes to charging, you’ll still need to provide your own plug (although a USB-C to Lightning cable is included in the box) or use either a MagSafe charger or another Qi-enabled pad.\n",
            "[(20, 1), (48, 1), (50, 3), (55, 1), (66, 2), (73, 1), (81, 1), (84, 1), (97, 1), (101, 1), (162, 2), (212, 1), (334, 1), (401, 1), (468, 1), (501, 1), (605, 1), (645, 1), (646, 1), (649, 1), (695, 1), (696, 1), (697, 1), (698, 1), (699, 1), (700, 1), (701, 1), (702, 1), (703, 1)]\n",
            "Wired charging is fastest as long as you’re using a 20w charger, with a full charge taking around 95 minutes.\n",
            "[(20, 1), (58, 1), (66, 2), (73, 1), (123, 1), (249, 2), (398, 1), (420, 1), (498, 1), (563, 1), (595, 1), (645, 1), (646, 1), (682, 1), (704, 1), (705, 1), (706, 1)]\n",
            "A 32-minute charge will get the phone from 0-50%.\n",
            "[(48, 1), (66, 1), (135, 1), (174, 1), (597, 1), (648, 1), (704, 1)]\n",
            "This falls well below some of the best Android phones, with the OnePlus 11 going from 0-100% in the amount of time the iPhone 14 can get to 50%.\n",
            "[(48, 4), (49, 1), (50, 1), (58, 1), (81, 1), (83, 1), (90, 2), (174, 1), (182, 1), (225, 1), (296, 1), (302, 1), (343, 1), (425, 1), (635, 1), (648, 1), (707, 1), (708, 1), (709, 1), (710, 1), (711, 1)]\n",
            "This could very well be the last year Apple uses Lightning as opposed to USB-C with certain EU laws coming into effect.\n",
            "[(48, 1), (49, 1), (50, 1), (58, 1), (74, 1), (75, 1), (79, 1), (170, 1), (207, 1), (249, 1), (344, 1), (451, 1), (536, 1), (656, 1), (698, 1), (711, 1), (712, 1), (713, 1), (714, 1), (715, 1), (716, 1)]\n",
            "This means the iPhone 15 is expected to feature a USB-C charging port instead, although we’re happy about this change, with Lightning becoming very slow for both charging and data transfer.\n",
            "[(1, 1), (20, 1), (48, 1), (49, 2), (50, 1), (58, 1), (66, 1), (83, 1), (110, 1), (147, 1), (207, 1), (245, 1), (269, 1), (341, 1), (349, 1), (399, 1), (498, 1), (501, 1), (573, 1), (609, 1), (646, 2), (698, 1), (717, 1), (718, 1), (719, 1), (720, 1), (721, 1), (722, 1)]\n",
            "article =\n",
            "[(723, 1)]\n"
          ]
        }
      ]
    },
    {
      "cell_type": "code",
      "source": [
        "# Build LDA Model\n",
        "\n",
        "# model fitting\n",
        "model = LdaModel(corpus=corpus, id2word=dictionary, num_topics=3)\n"
      ],
      "metadata": {
        "colab": {
          "base_uri": "https://localhost:8080/"
        },
        "id": "hRDF3DhQw972",
        "outputId": "9da49c1c-ab48-4969-d96f-01678a1781d3"
      },
      "execution_count": null,
      "outputs": [
        {
          "output_type": "stream",
          "name": "stderr",
          "text": [
            "WARNING:gensim.models.ldamodel:too few updates, training might not converge; consider increasing the number of passes or iterations to improve accuracy\n"
          ]
        }
      ]
    },
    {
      "cell_type": "code",
      "source": [
        "print(\"Identified topics\")\n",
        "for id,topic in model.print_topics():\n",
        "    print(f\"Topic {id+1}: {topic}\")"
      ],
      "metadata": {
        "colab": {
          "base_uri": "https://localhost:8080/"
        },
        "id": "mQ-90BXDw95V",
        "outputId": "97d4e7e0-1b1c-4b82-bc80-634048b47ab7"
      },
      "execution_count": null,
      "outputs": [
        {
          "output_type": "stream",
          "name": "stdout",
          "text": [
            "Identified topics\n",
            "Topic 1: 0.088*\"the\" + 0.030*\"iphone\" + 0.023*\"a\" + 0.021*\"and\" + 0.017*\"of\" + 0.016*\"is\" + 0.014*\"to\" + 0.013*\"s\" + 0.013*\"on\" + 0.012*\"in\"\n",
            "Topic 2: 0.027*\"the\" + 0.018*\"iphone\" + 0.017*\"a\" + 0.014*\"and\" + 0.012*\"s\" + 0.012*\"there\" + 0.012*\"you\" + 0.012*\"it\" + 0.011*\"to\" + 0.008*\"of\"\n",
            "Topic 3: 0.039*\"the\" + 0.033*\"a\" + 0.022*\"to\" + 0.014*\"is\" + 0.012*\"iphone\" + 0.011*\"s\" + 0.009*\"phone\" + 0.009*\"and\" + 0.008*\"it\" + 0.008*\"that\"\n"
          ]
        }
      ]
    },
    {
      "cell_type": "markdown",
      "source": [
        "## Non negative matrix factorization (NMF)"
      ],
      "metadata": {
        "id": "U_ELDZwCMEW7"
      }
    },
    {
      "cell_type": "code",
      "source": [
        "# import library\n",
        "from sklearn.feature_extraction.text import TfidfVectorizer\n",
        "from sklearn.decomposition import NMF\n"
      ],
      "metadata": {
        "id": "3oh2Qy1Nw93A"
      },
      "execution_count": null,
      "outputs": []
    },
    {
      "cell_type": "code",
      "source": [
        "# create a vectorizer\n",
        "vectorizer = TfidfVectorizer(stop_words='english')\n",
        "vectorized_data = vectorizer.fit_transform(documents)"
      ],
      "metadata": {
        "id": "M8PVkTJ-w90n"
      },
      "execution_count": null,
      "outputs": []
    },
    {
      "cell_type": "code",
      "source": [
        "# apply NMF\n",
        "number_topics = 5\n",
        "nmf = NMF(n_components=number_topics, random_state =42).fit(vectorized_data)"
      ],
      "metadata": {
        "id": "iCVrdc3uw9xq"
      },
      "execution_count": null,
      "outputs": []
    },
    {
      "cell_type": "code",
      "source": [
        "\n",
        "\n",
        "# print the nmf model\n",
        "\n",
        "feature_names = vectorizer.get_feature_names_out()\n",
        "for topic_idx, topic in enumerate(nmf.components_):\n",
        "    print(f\"Topic {topic_idx+1}:\")\n",
        "    top_words_idx = topic.argsort()[:-10:-1]\n",
        "    top_words = [feature_names[i] for i in top_words_idx]\n",
        "    print(\", \".join(top_words))\n"
      ],
      "metadata": {
        "colab": {
          "base_uri": "https://localhost:8080/"
        },
        "id": "1PBwHSJDw9vO",
        "outputId": "49502076-c818-4464-df8e-87474c5267ac"
      },
      "execution_count": null,
      "outputs": [
        {
          "output_type": "stream",
          "name": "stdout",
          "text": [
            "Topic 1:\n",
            "iphone, 14, credit, image, trusted, reviews, 13, pro, improvements\n",
            "Topic 2:\n",
            "camera, zoom, better, s23, samsung, pro, telephoto, galaxy, light\n",
            "Topic 3:\n",
            "phone, feature, emergency, esim, charging, 15, slot, network, available\n",
            "Topic 4:\n",
            "thumbnail, shorts, ring, oura, paperwhite, kindle, oppo, retro, launched\n",
            "Topic 5:\n",
            "remains, good, screen, phones, android, looking, tweaks, welcome, phone\n"
          ]
        }
      ]
    },
    {
      "cell_type": "code",
      "source": [
        "# search datasets on topic identification on kaggle on research articles"
      ],
      "metadata": {
        "id": "ZdRq4E8Fw9sw"
      },
      "execution_count": null,
      "outputs": []
    },
    {
      "cell_type": "code",
      "source": [],
      "metadata": {
        "id": "vjB739fNw9qe"
      },
      "execution_count": null,
      "outputs": []
    },
    {
      "cell_type": "code",
      "source": [],
      "metadata": {
        "id": "VbyjTISMw9oG"
      },
      "execution_count": null,
      "outputs": []
    },
    {
      "cell_type": "code",
      "source": [],
      "metadata": {
        "id": "e_0atHVAw9l0"
      },
      "execution_count": null,
      "outputs": []
    },
    {
      "cell_type": "code",
      "source": [],
      "metadata": {
        "id": "Ex3Kz6ujw9i5"
      },
      "execution_count": null,
      "outputs": []
    },
    {
      "cell_type": "code",
      "source": [],
      "metadata": {
        "id": "Zr4_SaPxw9gE"
      },
      "execution_count": null,
      "outputs": []
    },
    {
      "cell_type": "code",
      "source": [],
      "metadata": {
        "id": "sjOUqi8Tw9dB"
      },
      "execution_count": null,
      "outputs": []
    },
    {
      "cell_type": "code",
      "source": [],
      "metadata": {
        "id": "fJB3qLP5w9a5"
      },
      "execution_count": null,
      "outputs": []
    },
    {
      "cell_type": "code",
      "source": [],
      "metadata": {
        "id": "nPNXi0Kfw9Yk"
      },
      "execution_count": null,
      "outputs": []
    },
    {
      "cell_type": "code",
      "source": [],
      "metadata": {
        "id": "yXmBv04Kw9WU"
      },
      "execution_count": null,
      "outputs": []
    },
    {
      "cell_type": "code",
      "source": [],
      "metadata": {
        "id": "S9fyQgniw9UM"
      },
      "execution_count": null,
      "outputs": []
    },
    {
      "cell_type": "code",
      "source": [],
      "metadata": {
        "id": "JrnzN48Gw9SA"
      },
      "execution_count": null,
      "outputs": []
    },
    {
      "cell_type": "code",
      "source": [],
      "metadata": {
        "id": "afJvPue7w9Ou"
      },
      "execution_count": null,
      "outputs": []
    },
    {
      "cell_type": "code",
      "source": [],
      "metadata": {
        "id": "6PYc9YOmw9MX"
      },
      "execution_count": null,
      "outputs": []
    },
    {
      "cell_type": "code",
      "source": [],
      "metadata": {
        "id": "SI9cAwIRw9KG"
      },
      "execution_count": null,
      "outputs": []
    },
    {
      "cell_type": "code",
      "source": [],
      "metadata": {
        "id": "_ySkShuNw9H2"
      },
      "execution_count": null,
      "outputs": []
    },
    {
      "cell_type": "code",
      "source": [],
      "metadata": {
        "id": "LyAMFUCuw9Fi"
      },
      "execution_count": null,
      "outputs": []
    },
    {
      "cell_type": "code",
      "source": [],
      "metadata": {
        "id": "3BHjlgHww9DW"
      },
      "execution_count": null,
      "outputs": []
    },
    {
      "cell_type": "code",
      "source": [],
      "metadata": {
        "id": "wtjPfwHww9BH"
      },
      "execution_count": null,
      "outputs": []
    },
    {
      "cell_type": "code",
      "source": [],
      "metadata": {
        "id": "EdXfBE-Lw8-6"
      },
      "execution_count": null,
      "outputs": []
    },
    {
      "cell_type": "code",
      "execution_count": null,
      "metadata": {
        "id": "QqvMNOcKwpqk"
      },
      "outputs": [],
      "source": []
    }
  ]
}